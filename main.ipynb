{
 "cells": [
  {
   "cell_type": "code",
   "execution_count": 1,
   "metadata": {},
   "outputs": [],
   "source": [
    "import pandas as pd\n",
    "import numpy as np\n",
    "import matplotlib.pyplot as plt\n",
    "import seaborn as sns\n",
    "import nltk\n",
    "from nltk.corpus import stopwords\n",
    "from scipy.spatial.distance import cosine \n",
    "import matplotlib.pyplot as plt\n",
    "from tqdm import tqdm "
   ]
  },
  {
   "cell_type": "code",
   "execution_count": 2,
   "metadata": {},
   "outputs": [],
   "source": [
    "df = pd.read_csv(\"medquad.csv\")"
   ]
  },
  {
   "cell_type": "code",
   "execution_count": 3,
   "metadata": {},
   "outputs": [
    {
     "data": {
      "text/html": [
       "<div>\n",
       "<style scoped>\n",
       "    .dataframe tbody tr th:only-of-type {\n",
       "        vertical-align: middle;\n",
       "    }\n",
       "\n",
       "    .dataframe tbody tr th {\n",
       "        vertical-align: top;\n",
       "    }\n",
       "\n",
       "    .dataframe thead th {\n",
       "        text-align: right;\n",
       "    }\n",
       "</style>\n",
       "<table border=\"1\" class=\"dataframe\">\n",
       "  <thead>\n",
       "    <tr style=\"text-align: right;\">\n",
       "      <th></th>\n",
       "      <th>question</th>\n",
       "      <th>answer</th>\n",
       "      <th>source</th>\n",
       "      <th>focus_area</th>\n",
       "    </tr>\n",
       "  </thead>\n",
       "  <tbody>\n",
       "    <tr>\n",
       "      <th>0</th>\n",
       "      <td>What is (are) Glaucoma ?</td>\n",
       "      <td>Glaucoma is a group of diseases that can damag...</td>\n",
       "      <td>NIHSeniorHealth</td>\n",
       "      <td>Glaucoma</td>\n",
       "    </tr>\n",
       "    <tr>\n",
       "      <th>1</th>\n",
       "      <td>What causes Glaucoma ?</td>\n",
       "      <td>Nearly 2.7 million people have glaucoma, a lea...</td>\n",
       "      <td>NIHSeniorHealth</td>\n",
       "      <td>Glaucoma</td>\n",
       "    </tr>\n",
       "    <tr>\n",
       "      <th>2</th>\n",
       "      <td>What are the symptoms of Glaucoma ?</td>\n",
       "      <td>Symptoms of Glaucoma  Glaucoma can develop in ...</td>\n",
       "      <td>NIHSeniorHealth</td>\n",
       "      <td>Glaucoma</td>\n",
       "    </tr>\n",
       "    <tr>\n",
       "      <th>3</th>\n",
       "      <td>What are the treatments for Glaucoma ?</td>\n",
       "      <td>Although open-angle glaucoma cannot be cured, ...</td>\n",
       "      <td>NIHSeniorHealth</td>\n",
       "      <td>Glaucoma</td>\n",
       "    </tr>\n",
       "    <tr>\n",
       "      <th>4</th>\n",
       "      <td>What is (are) Glaucoma ?</td>\n",
       "      <td>Glaucoma is a group of diseases that can damag...</td>\n",
       "      <td>NIHSeniorHealth</td>\n",
       "      <td>Glaucoma</td>\n",
       "    </tr>\n",
       "  </tbody>\n",
       "</table>\n",
       "</div>"
      ],
      "text/plain": [
       "                                 question  \\\n",
       "0                What is (are) Glaucoma ?   \n",
       "1                  What causes Glaucoma ?   \n",
       "2     What are the symptoms of Glaucoma ?   \n",
       "3  What are the treatments for Glaucoma ?   \n",
       "4                What is (are) Glaucoma ?   \n",
       "\n",
       "                                              answer           source  \\\n",
       "0  Glaucoma is a group of diseases that can damag...  NIHSeniorHealth   \n",
       "1  Nearly 2.7 million people have glaucoma, a lea...  NIHSeniorHealth   \n",
       "2  Symptoms of Glaucoma  Glaucoma can develop in ...  NIHSeniorHealth   \n",
       "3  Although open-angle glaucoma cannot be cured, ...  NIHSeniorHealth   \n",
       "4  Glaucoma is a group of diseases that can damag...  NIHSeniorHealth   \n",
       "\n",
       "  focus_area  \n",
       "0   Glaucoma  \n",
       "1   Glaucoma  \n",
       "2   Glaucoma  \n",
       "3   Glaucoma  \n",
       "4   Glaucoma  "
      ]
     },
     "execution_count": 3,
     "metadata": {},
     "output_type": "execute_result"
    }
   ],
   "source": [
    "df.head()"
   ]
  },
  {
   "cell_type": "code",
   "execution_count": 4,
   "metadata": {},
   "outputs": [],
   "source": [
    "import torch\n",
    "import torch.nn as nn\n",
    "import torch.optim as optim\n",
    "from collections import Counter\n",
    "\n",
    "embedding_dim = 100\n",
    "Window_size = 5\n",
    "min_count = 1\n",
    "lr = 0.001\n",
    "num_epochs = 10"
   ]
  },
  {
   "cell_type": "code",
   "execution_count": 5,
   "metadata": {},
   "outputs": [
    {
     "data": {
      "text/plain": [
       "'mps'"
      ]
     },
     "execution_count": 5,
     "metadata": {},
     "output_type": "execute_result"
    }
   ],
   "source": [
    "device = \"mps\" if torch.backends.mps.is_available() else \"cpu\"\n",
    "\n",
    "device"
   ]
  },
  {
   "cell_type": "code",
   "execution_count": 6,
   "metadata": {},
   "outputs": [],
   "source": [
    "def preprocess_data(data):\n",
    "    \n",
    "    data = data.dropna()\n",
    "    \n",
    "    combined_text = data[\"question\"] + \" \" + data[\"answer\"]\n",
    "    \n",
    "    words = \" \".join(combined_text).split()\n",
    "    \n",
    "    counter = Counter(words)\n",
    "    vocabulary = {word: idx for idx, (word, count) in enumerate(counter.items()) if count >= min_count}\n",
    "    idx_to_word = {idx: word for word, idx in vocabulary.items()}\n",
    "    \n",
    "    return vocabulary, idx_to_word, combined_text"
   ]
  },
  {
   "cell_type": "code",
   "execution_count": 7,
   "metadata": {},
   "outputs": [],
   "source": [
    "vocab , idx_to_word, combined_text = preprocess_data(df)"
   ]
  },
  {
   "cell_type": "code",
   "execution_count": 8,
   "metadata": {},
   "outputs": [],
   "source": [
    "def skipgram_model(corpus, vocabulary, window_size):\n",
    "    \n",
    "    skip_grams = []\n",
    "    \n",
    "    for sentence in corpus:\n",
    "        words = sentence.lower().split()\n",
    "        indices = [vocabulary[word] for word in words if word in vocabulary]\n",
    "        \n",
    "        for i, target in enumerate(indices):\n",
    "            context = indices[max(0, i-window_size):i] + indices[i+1:i+window_size+1]\n",
    "            \n",
    "            for context_word in context:\n",
    "                skip_grams.append((target, context_word))\n",
    "                \n",
    "    return skip_grams"
   ]
  },
  {
   "cell_type": "code",
   "execution_count": 9,
   "metadata": {},
   "outputs": [
    {
     "name": "stdout",
     "output_type": "stream",
     "text": [
      "Number of skip-grams: 32805570\n"
     ]
    }
   ],
   "source": [
    "skip_grams = skipgram_model(combined_text, vocab, Window_size)\n",
    "skip_grams[:10]\n",
    "print(f\"Number of skip-grams: {len(skip_grams)}\")"
   ]
  },
  {
   "cell_type": "code",
   "execution_count": 10,
   "metadata": {},
   "outputs": [],
   "source": [
    "from torch.utils.data import Dataset\n",
    "class SkipGramDataset(Dataset):\n",
    "    \n",
    "    def __init__(self, data):\n",
    "        self.data = data\n",
    "    def __len__(self):\n",
    "        return len(self.data)\n",
    "    def __getitem__(self, idx):\n",
    "        target, context = self.data[idx]\n",
    "        return torch.tensor(target, dtype=torch.long), torch.tensor(context, dtype=torch.long)"
   ]
  },
  {
   "cell_type": "code",
   "execution_count": 11,
   "metadata": {},
   "outputs": [
    {
     "data": {
      "text/plain": [
       "32805570"
      ]
     },
     "execution_count": 11,
     "metadata": {},
     "output_type": "execute_result"
    }
   ],
   "source": [
    "dataset = SkipGramDataset(skip_grams)\n",
    "len(dataset)\n"
   ]
  },
  {
   "cell_type": "code",
   "execution_count": 12,
   "metadata": {},
   "outputs": [
    {
     "data": {
      "text/plain": [
       "(tensor(175), tensor(1))"
      ]
     },
     "execution_count": 12,
     "metadata": {},
     "output_type": "execute_result"
    }
   ],
   "source": [
    "dataset[0]"
   ]
  },
  {
   "cell_type": "code",
   "execution_count": 13,
   "metadata": {},
   "outputs": [],
   "source": [
    "from torch.utils.data import DataLoader\n",
    "dataloader = DataLoader(dataset, batch_size=100, shuffle=True)"
   ]
  },
  {
   "cell_type": "code",
   "execution_count": 14,
   "metadata": {},
   "outputs": [
    {
     "name": "stdout",
     "output_type": "stream",
     "text": [
      "tensor([18445, 12878,    18,   340,     7,  3240,     1, 26605,   179,   208,\n",
      "            2,  6947, 56501,  9213, 16166,     7,  2019,    12,    12,  3030,\n",
      "         1041,  1282,  6436,     1, 72125,   732,    72,  3179,   382,  5715,\n",
      "            7,   806,   367,   177,   170,   588,   212,  3744, 10447,  1348,\n",
      "           10,    61,  3631,  1346,    87,   248, 25476, 22501,   152,     5,\n",
      "          122,     7,    18,  1303,     7,  3196,  3425,  4181,  8644,    12,\n",
      "        15075,     5,   455,   295,   208,  1104, 28525,  1864,    70,    12,\n",
      "         1172, 18833,    10,    70,     7,    12,  3942,    29,   302,    18,\n",
      "         9998, 18599,   382,  5446,  1076,   200,    12,  5912,   386,   200,\n",
      "           16,   177,   117, 40143, 40894,   732,   256,    12,   253,    70]) tensor([ 6828,  1605,   933,   781, 25422,   153,    12,   806,   547,  1210,\n",
      "            1,   200,  1843,   200,   553, 27915,  5445,    10, 35145,   457,\n",
      "           36,  9699,  3052,  2089,  1289,  3242,  1076,  1348,  1453,  6340,\n",
      "         5414,    16,   341,   466,    36,  2350,  2588,   119,    12,   256,\n",
      "          361, 57439,   361,  1611,  4806,   110,  8985, 43056,   256,  2000,\n",
      "         3032,   606,  5788,   574,   253,   435, 17596,   547,     7, 16326,\n",
      "           87,  3325,  1932,     5,  5802,    70,   200,   293,   285,   550,\n",
      "          435,    18, 20405,    12,    29,     7,    16,   600,  1158,  7138,\n",
      "          177,     7,   341,   398,   228,    30,   904,  1775,    36, 26480,\n",
      "           12,  4067,  3444, 28902,  1453,     7,  9712,  3033,  1172,  1542])\n"
     ]
    }
   ],
   "source": [
    "for trainX, trainY in dataloader:\n",
    "    print(trainX, trainY)\n",
    "    break"
   ]
  },
  {
   "cell_type": "code",
   "execution_count": 15,
   "metadata": {},
   "outputs": [],
   "source": [
    "class Word2Vec(nn.Module):\n",
    "    def __init__(self, vocab_size, embedding_dim):\n",
    "        super(Word2Vec, self).__init__()\n",
    "        self.embedding = nn.Embedding(vocab_size, embedding_dim)\n",
    "    def forward(self, target, context):\n",
    "        target_embedding = self.embedding(target)\n",
    "        context_embedding = self.embedding(context)\n",
    "        \n",
    "        score = torch.mul(target_embedding, context_embedding).sum(dim=1)\n",
    "        return score\n",
    "    \n",
    "model = Word2Vec(len(vocab), embedding_dim).to(device)"
   ]
  },
  {
   "cell_type": "code",
   "execution_count": 16,
   "metadata": {},
   "outputs": [
    {
     "data": {
      "text/plain": [
       "Word2Vec(\n",
       "  (embedding): Embedding(74331, 100)\n",
       ")"
      ]
     },
     "execution_count": 16,
     "metadata": {},
     "output_type": "execute_result"
    }
   ],
   "source": [
    "model"
   ]
  },
  {
   "cell_type": "code",
   "execution_count": 17,
   "metadata": {},
   "outputs": [],
   "source": [
    "Adam_optimizer = optim.Adam(model.parameters(), lr=lr)\n",
    "loss_fn = nn.BCEWithLogitsLoss()\n"
   ]
  },
  {
   "cell_type": "code",
   "execution_count": 20,
   "metadata": {},
   "outputs": [
    {
     "ename": "KeyboardInterrupt",
     "evalue": "",
     "output_type": "error",
     "traceback": [
      "\u001b[0;31m---------------------------------------------------------------------------\u001b[0m",
      "\u001b[0;31mKeyboardInterrupt\u001b[0m                         Traceback (most recent call last)",
      "Cell \u001b[0;32mIn[20], line 5\u001b[0m\n\u001b[1;32m      3\u001b[0m \u001b[38;5;28;01mfor\u001b[39;00m epoch \u001b[38;5;129;01min\u001b[39;00m \u001b[38;5;28mrange\u001b[39m(\u001b[38;5;241m1\u001b[39m):\n\u001b[1;32m      4\u001b[0m     total_loss \u001b[38;5;241m=\u001b[39m \u001b[38;5;241m0\u001b[39m\n\u001b[0;32m----> 5\u001b[0m \u001b[43m    \u001b[49m\u001b[38;5;28;43;01mfor\u001b[39;49;00m\u001b[43m \u001b[49m\u001b[43mtarget\u001b[49m\u001b[43m,\u001b[49m\u001b[43m \u001b[49m\u001b[43mcontext\u001b[49m\u001b[43m \u001b[49m\u001b[38;5;129;43;01min\u001b[39;49;00m\u001b[43m \u001b[49m\u001b[43mdataloader\u001b[49m\u001b[43m:\u001b[49m\n\u001b[1;32m      6\u001b[0m \u001b[43m        \u001b[49m\u001b[43mtarget\u001b[49m\u001b[43m \u001b[49m\u001b[38;5;241;43m=\u001b[39;49m\u001b[43m \u001b[49m\u001b[43mtarget\u001b[49m\u001b[38;5;241;43m.\u001b[39;49m\u001b[43mto\u001b[49m\u001b[43m(\u001b[49m\u001b[43mdevice\u001b[49m\u001b[43m)\u001b[49m\n\u001b[1;32m      7\u001b[0m \u001b[43m        \u001b[49m\u001b[43mcontext\u001b[49m\u001b[43m \u001b[49m\u001b[38;5;241;43m=\u001b[39;49m\u001b[43m \u001b[49m\u001b[43mcontext\u001b[49m\u001b[38;5;241;43m.\u001b[39;49m\u001b[43mto\u001b[49m\u001b[43m(\u001b[49m\u001b[43mdevice\u001b[49m\u001b[43m)\u001b[49m\n",
      "File \u001b[0;32m~/miniforge3/envs/textS/lib/python3.11/site-packages/torch/utils/data/dataloader.py:697\u001b[0m, in \u001b[0;36m_BaseDataLoaderIter.__next__\u001b[0;34m(self)\u001b[0m\n\u001b[1;32m    696\u001b[0m \u001b[38;5;28;01mdef\u001b[39;00m \u001b[38;5;21m__next__\u001b[39m(\u001b[38;5;28mself\u001b[39m) \u001b[38;5;241m-\u001b[39m\u001b[38;5;241m>\u001b[39m Any:\n\u001b[0;32m--> 697\u001b[0m \u001b[43m    \u001b[49m\u001b[38;5;28;43;01mwith\u001b[39;49;00m\u001b[43m \u001b[49m\u001b[43mtorch\u001b[49m\u001b[38;5;241;43m.\u001b[39;49m\u001b[43mautograd\u001b[49m\u001b[38;5;241;43m.\u001b[39;49m\u001b[43mprofiler\u001b[49m\u001b[38;5;241;43m.\u001b[39;49m\u001b[43mrecord_function\u001b[49m\u001b[43m(\u001b[49m\u001b[38;5;28;43mself\u001b[39;49m\u001b[38;5;241;43m.\u001b[39;49m\u001b[43m_profile_name\u001b[49m\u001b[43m)\u001b[49m\u001b[43m:\u001b[49m\n\u001b[1;32m    698\u001b[0m \u001b[43m        \u001b[49m\u001b[38;5;28;43;01mif\u001b[39;49;00m\u001b[43m \u001b[49m\u001b[38;5;28;43mself\u001b[39;49m\u001b[38;5;241;43m.\u001b[39;49m\u001b[43m_sampler_iter\u001b[49m\u001b[43m \u001b[49m\u001b[38;5;129;43;01mis\u001b[39;49;00m\u001b[43m \u001b[49m\u001b[38;5;28;43;01mNone\u001b[39;49;00m\u001b[43m:\u001b[49m\n\u001b[1;32m    699\u001b[0m \u001b[43m            \u001b[49m\u001b[38;5;66;43;03m# TODO(https://github.com/pytorch/pytorch/issues/76750)\u001b[39;49;00m\n\u001b[1;32m    700\u001b[0m \u001b[43m            \u001b[49m\u001b[38;5;28;43mself\u001b[39;49m\u001b[38;5;241;43m.\u001b[39;49m\u001b[43m_reset\u001b[49m\u001b[43m(\u001b[49m\u001b[43m)\u001b[49m\u001b[43m  \u001b[49m\u001b[38;5;66;43;03m# type: ignore[call-arg]\u001b[39;49;00m\n",
      "File \u001b[0;32m~/miniforge3/envs/textS/lib/python3.11/site-packages/torch/autograd/profiler.py:733\u001b[0m, in \u001b[0;36mrecord_function.__enter__\u001b[0;34m(self)\u001b[0m\n\u001b[1;32m    732\u001b[0m \u001b[38;5;28;01mdef\u001b[39;00m \u001b[38;5;21m__enter__\u001b[39m(\u001b[38;5;28mself\u001b[39m):\n\u001b[0;32m--> 733\u001b[0m     \u001b[38;5;28mself\u001b[39m\u001b[38;5;241m.\u001b[39mrecord \u001b[38;5;241m=\u001b[39m \u001b[43mtorch\u001b[49m\u001b[38;5;241;43m.\u001b[39;49m\u001b[43mops\u001b[49m\u001b[38;5;241;43m.\u001b[39;49m\u001b[43mprofiler\u001b[49m\u001b[38;5;241;43m.\u001b[39;49m\u001b[43m_record_function_enter_new\u001b[49m\u001b[43m(\u001b[49m\n\u001b[1;32m    734\u001b[0m \u001b[43m        \u001b[49m\u001b[38;5;28;43mself\u001b[39;49m\u001b[38;5;241;43m.\u001b[39;49m\u001b[43mname\u001b[49m\u001b[43m,\u001b[49m\u001b[43m \u001b[49m\u001b[38;5;28;43mself\u001b[39;49m\u001b[38;5;241;43m.\u001b[39;49m\u001b[43margs\u001b[49m\n\u001b[1;32m    735\u001b[0m \u001b[43m    \u001b[49m\u001b[43m)\u001b[49m\n\u001b[1;32m    736\u001b[0m     \u001b[38;5;28;01mreturn\u001b[39;00m \u001b[38;5;28mself\u001b[39m\n",
      "File \u001b[0;32m~/miniforge3/envs/textS/lib/python3.11/site-packages/torch/_ops.py:1116\u001b[0m, in \u001b[0;36mOpOverloadPacket.__call__\u001b[0;34m(self, *args, **kwargs)\u001b[0m\n\u001b[1;32m   1114\u001b[0m \u001b[38;5;28;01mif\u001b[39;00m \u001b[38;5;28mself\u001b[39m\u001b[38;5;241m.\u001b[39m_has_torchbind_op_overload \u001b[38;5;129;01mand\u001b[39;00m _must_dispatch_in_python(args, kwargs):\n\u001b[1;32m   1115\u001b[0m     \u001b[38;5;28;01mreturn\u001b[39;00m _call_overload_packet_from_python(\u001b[38;5;28mself\u001b[39m, args, kwargs)\n\u001b[0;32m-> 1116\u001b[0m \u001b[38;5;28;01mreturn\u001b[39;00m \u001b[38;5;28;43mself\u001b[39;49m\u001b[38;5;241;43m.\u001b[39;49m\u001b[43m_op\u001b[49m\u001b[43m(\u001b[49m\u001b[38;5;241;43m*\u001b[39;49m\u001b[43margs\u001b[49m\u001b[43m,\u001b[49m\u001b[43m \u001b[49m\u001b[38;5;241;43m*\u001b[39;49m\u001b[38;5;241;43m*\u001b[39;49m\u001b[43m(\u001b[49m\u001b[43mkwargs\u001b[49m\u001b[43m \u001b[49m\u001b[38;5;129;43;01mor\u001b[39;49;00m\u001b[43m \u001b[49m\u001b[43m{\u001b[49m\u001b[43m}\u001b[49m\u001b[43m)\u001b[49m\u001b[43m)\u001b[49m\n",
      "\u001b[0;31mKeyboardInterrupt\u001b[0m: "
     ]
    }
   ],
   "source": [
    "# Train the model\n",
    "\n",
    "for epoch in range(1):\n",
    "    total_loss = 0\n",
    "    for target, context in dataloader:\n",
    "        target = target.to(device)\n",
    "        context = context.to(device)\n",
    "        # Let's introduce Adam optimizer        \n",
    "        Adam_optimizer.zero_grad()\n",
    "         # The forward propagation\n",
    "         \n",
    "        scores = model(target, context)\n",
    "        \n",
    "        labels = torch.ones_like(scores)\n",
    "        \n",
    "        loss = loss_fn(scores, labels)\n",
    "        \n",
    "        # Backpropagation\n",
    "        \n",
    "        loss.backward()\n",
    "        \n",
    "        # Update the weights\n",
    "        \n",
    "        Adam_optimizer.step()\n",
    "        total_loss += loss.item()\n",
    "    \n",
    "    print(f\"Epoch {epoch+1}, Loss: {total_loss:.4f}\")\n"
   ]
  },
  {
   "cell_type": "code",
   "execution_count": 21,
   "metadata": {},
   "outputs": [
    {
     "name": "stderr",
     "output_type": "stream",
     "text": [
      "Epoch 1/10:   0%|          | 1006/328056 [00:19<2:13:23, 40.86it/s, Avg Loss=0.6863]"
     ]
    },
    {
     "name": "stdout",
     "output_type": "stream",
     "text": [
      "\n",
      "Batch 1000\n",
      "Current batch loss: 0.2657\n",
      "Average loss so far: 0.6869\n"
     ]
    },
    {
     "name": "stderr",
     "output_type": "stream",
     "text": [
      "Epoch 1/10:   1%|          | 2003/328056 [00:57<2:55:34, 30.95it/s, Avg Loss=0.6583]"
     ]
    },
    {
     "name": "stdout",
     "output_type": "stream",
     "text": [
      "\n",
      "Batch 2000\n",
      "Current batch loss: 0.5545\n",
      "Average loss so far: 0.6588\n"
     ]
    },
    {
     "name": "stderr",
     "output_type": "stream",
     "text": [
      "Epoch 1/10:   1%|          | 3004/328056 [01:31<3:01:11, 29.90it/s, Avg Loss=0.6329]"
     ]
    },
    {
     "name": "stdout",
     "output_type": "stream",
     "text": [
      "\n",
      "Batch 3000\n",
      "Current batch loss: 0.5592\n",
      "Average loss so far: 0.6331\n"
     ]
    },
    {
     "name": "stderr",
     "output_type": "stream",
     "text": [
      "Epoch 1/10:   1%|          | 4004/328056 [02:05<2:59:27, 30.10it/s, Avg Loss=0.6103]"
     ]
    },
    {
     "name": "stdout",
     "output_type": "stream",
     "text": [
      "\n",
      "Batch 4000\n",
      "Current batch loss: 0.7768\n",
      "Average loss so far: 0.6104\n"
     ]
    },
    {
     "name": "stderr",
     "output_type": "stream",
     "text": [
      "Epoch 1/10:   2%|▏         | 5004/328056 [02:40<3:27:10, 25.99it/s, Avg Loss=0.5862] "
     ]
    },
    {
     "name": "stdout",
     "output_type": "stream",
     "text": [
      "\n",
      "Batch 5000\n",
      "Current batch loss: 0.5818\n",
      "Average loss so far: 0.5864\n"
     ]
    },
    {
     "name": "stderr",
     "output_type": "stream",
     "text": [
      "Epoch 1/10:   2%|▏         | 6002/328056 [03:17<4:21:23, 20.53it/s, Avg Loss=0.5643] "
     ]
    },
    {
     "name": "stdout",
     "output_type": "stream",
     "text": [
      "\n",
      "Batch 6000\n",
      "Current batch loss: 0.5056\n",
      "Average loss so far: 0.5644\n"
     ]
    },
    {
     "name": "stderr",
     "output_type": "stream",
     "text": [
      "Epoch 1/10:   2%|▏         | 7005/328056 [03:52<3:08:32, 28.38it/s, Avg Loss=0.5449] "
     ]
    },
    {
     "name": "stdout",
     "output_type": "stream",
     "text": [
      "\n",
      "Batch 7000\n",
      "Current batch loss: 0.6084\n",
      "Average loss so far: 0.5451\n"
     ]
    },
    {
     "name": "stderr",
     "output_type": "stream",
     "text": [
      "Epoch 1/10:   2%|▏         | 8004/328056 [04:26<2:57:42, 30.02it/s, Avg Loss=0.5281]"
     ]
    },
    {
     "name": "stdout",
     "output_type": "stream",
     "text": [
      "\n",
      "Batch 8000\n",
      "Current batch loss: 0.4482\n",
      "Average loss so far: 0.5282\n"
     ]
    },
    {
     "name": "stderr",
     "output_type": "stream",
     "text": [
      "Epoch 1/10:   3%|▎         | 9005/328056 [05:01<3:27:46, 25.59it/s, Avg Loss=0.5113]"
     ]
    },
    {
     "name": "stdout",
     "output_type": "stream",
     "text": [
      "\n",
      "Batch 9000\n",
      "Current batch loss: 0.3218\n",
      "Average loss so far: 0.5113\n"
     ]
    },
    {
     "name": "stderr",
     "output_type": "stream",
     "text": [
      "Epoch 1/10:   3%|▎         | 10007/328056 [05:38<2:25:54, 36.33it/s, Avg Loss=0.4953]"
     ]
    },
    {
     "name": "stdout",
     "output_type": "stream",
     "text": [
      "\n",
      "Batch 10000\n",
      "Current batch loss: 0.1439\n",
      "Average loss so far: 0.4954\n"
     ]
    },
    {
     "name": "stderr",
     "output_type": "stream",
     "text": [
      "Epoch 1/10:   3%|▎         | 11003/328056 [06:11<2:57:44, 29.73it/s, Avg Loss=0.4799]"
     ]
    },
    {
     "name": "stdout",
     "output_type": "stream",
     "text": [
      "\n",
      "Batch 11000\n",
      "Current batch loss: 0.4111\n",
      "Average loss so far: 0.4801\n"
     ]
    },
    {
     "name": "stderr",
     "output_type": "stream",
     "text": [
      "Epoch 1/10:   4%|▎         | 12004/328056 [06:45<2:55:37, 29.99it/s, Avg Loss=0.4652]"
     ]
    },
    {
     "name": "stdout",
     "output_type": "stream",
     "text": [
      "\n",
      "Batch 12000\n",
      "Current batch loss: 0.1114\n",
      "Average loss so far: 0.4653\n"
     ]
    },
    {
     "name": "stderr",
     "output_type": "stream",
     "text": [
      "Epoch 1/10:   4%|▍         | 13004/328056 [07:21<4:24:53, 19.82it/s, Avg Loss=0.4519]"
     ]
    },
    {
     "name": "stdout",
     "output_type": "stream",
     "text": [
      "\n",
      "Batch 13000\n",
      "Current batch loss: 0.5455\n",
      "Average loss so far: 0.4520\n"
     ]
    },
    {
     "name": "stderr",
     "output_type": "stream",
     "text": [
      "Epoch 1/10:   4%|▍         | 14004/328056 [07:55<3:07:42, 27.89it/s, Avg Loss=0.4401]"
     ]
    },
    {
     "name": "stdout",
     "output_type": "stream",
     "text": [
      "\n",
      "Batch 14000\n",
      "Current batch loss: 0.2942\n",
      "Average loss so far: 0.4402\n"
     ]
    },
    {
     "name": "stderr",
     "output_type": "stream",
     "text": [
      "Epoch 1/10:   5%|▍         | 15002/328056 [08:29<2:52:18, 30.28it/s, Avg Loss=0.4283]"
     ]
    },
    {
     "name": "stdout",
     "output_type": "stream",
     "text": [
      "\n",
      "Batch 15000\n",
      "Current batch loss: 0.1405\n",
      "Average loss so far: 0.4284\n"
     ]
    },
    {
     "name": "stderr",
     "output_type": "stream",
     "text": [
      "Epoch 1/10:   5%|▍         | 16016/328056 [08:40<55:39, 93.43it/s, Avg Loss=0.4174]  "
     ]
    },
    {
     "name": "stdout",
     "output_type": "stream",
     "text": [
      "\n",
      "Batch 16000\n",
      "Current batch loss: 0.1280\n",
      "Average loss so far: 0.4176\n"
     ]
    },
    {
     "name": "stderr",
     "output_type": "stream",
     "text": [
      "Epoch 1/10:   5%|▌         | 17014/328056 [08:51<57:31, 90.12it/s, Avg Loss=0.4073]  "
     ]
    },
    {
     "name": "stdout",
     "output_type": "stream",
     "text": [
      "\n",
      "Batch 17000\n",
      "Current batch loss: 0.3663\n",
      "Average loss so far: 0.4075\n"
     ]
    },
    {
     "name": "stderr",
     "output_type": "stream",
     "text": [
      "Epoch 1/10:   5%|▌         | 18014/328056 [09:02<55:51, 92.52it/s, Avg Loss=0.3978]  "
     ]
    },
    {
     "name": "stdout",
     "output_type": "stream",
     "text": [
      "\n",
      "Batch 18000\n",
      "Current batch loss: 0.2067\n",
      "Average loss so far: 0.3981\n"
     ]
    },
    {
     "name": "stderr",
     "output_type": "stream",
     "text": [
      "Epoch 1/10:   6%|▌         | 19014/328056 [09:13<58:59, 87.30it/s, Avg Loss=0.3885]  "
     ]
    },
    {
     "name": "stdout",
     "output_type": "stream",
     "text": [
      "\n",
      "Batch 19000\n",
      "Current batch loss: 0.0147\n",
      "Average loss so far: 0.3887\n"
     ]
    },
    {
     "name": "stderr",
     "output_type": "stream",
     "text": [
      "Epoch 1/10:   6%|▌         | 20011/328056 [09:24<54:27, 94.27it/s, Avg Loss=0.3797]  "
     ]
    },
    {
     "name": "stdout",
     "output_type": "stream",
     "text": [
      "\n",
      "Batch 20000\n",
      "Current batch loss: 0.1225\n",
      "Average loss so far: 0.3799\n"
     ]
    },
    {
     "name": "stderr",
     "output_type": "stream",
     "text": [
      "Epoch 1/10:   6%|▋         | 21010/328056 [09:35<54:47, 93.40it/s, Avg Loss=0.3716]  "
     ]
    },
    {
     "name": "stdout",
     "output_type": "stream",
     "text": [
      "\n",
      "Batch 21000\n",
      "Current batch loss: 0.2063\n",
      "Average loss so far: 0.3717\n"
     ]
    },
    {
     "name": "stderr",
     "output_type": "stream",
     "text": [
      "Epoch 1/10:   7%|▋         | 22010/328056 [09:46<55:11, 92.43it/s, Avg Loss=0.3635]  "
     ]
    },
    {
     "name": "stdout",
     "output_type": "stream",
     "text": [
      "\n",
      "Batch 22000\n",
      "Current batch loss: 0.0512\n",
      "Average loss so far: 0.3636\n"
     ]
    },
    {
     "name": "stderr",
     "output_type": "stream",
     "text": [
      "Epoch 1/10:   7%|▋         | 23019/328056 [09:56<53:22, 95.25it/s, Avg Loss=0.3562]  "
     ]
    },
    {
     "name": "stdout",
     "output_type": "stream",
     "text": [
      "\n",
      "Batch 23000\n",
      "Current batch loss: 0.1054\n",
      "Average loss so far: 0.3564\n"
     ]
    },
    {
     "name": "stderr",
     "output_type": "stream",
     "text": [
      "Epoch 1/10:   7%|▋         | 24018/328056 [10:07<54:04, 93.72it/s, Avg Loss=0.3489]  "
     ]
    },
    {
     "name": "stdout",
     "output_type": "stream",
     "text": [
      "\n",
      "Batch 24000\n",
      "Current batch loss: 0.3452\n",
      "Average loss so far: 0.3490\n"
     ]
    },
    {
     "name": "stderr",
     "output_type": "stream",
     "text": [
      "Epoch 1/10:   8%|▊         | 25013/328056 [10:18<55:04, 91.71it/s, Avg Loss=0.3418]  "
     ]
    },
    {
     "name": "stdout",
     "output_type": "stream",
     "text": [
      "\n",
      "Batch 25000\n",
      "Current batch loss: 0.1753\n",
      "Average loss so far: 0.3420\n"
     ]
    },
    {
     "name": "stderr",
     "output_type": "stream",
     "text": [
      "Epoch 1/10:   8%|▊         | 26016/328056 [10:30<57:10, 88.03it/s, Avg Loss=0.3353]  "
     ]
    },
    {
     "name": "stdout",
     "output_type": "stream",
     "text": [
      "\n",
      "Batch 26000\n",
      "Current batch loss: 0.0960\n",
      "Average loss so far: 0.3355\n"
     ]
    },
    {
     "name": "stderr",
     "output_type": "stream",
     "text": [
      "Epoch 1/10:   8%|▊         | 27013/328056 [10:41<54:32, 91.98it/s, Avg Loss=0.3291]  "
     ]
    },
    {
     "name": "stdout",
     "output_type": "stream",
     "text": [
      "\n",
      "Batch 27000\n",
      "Current batch loss: 0.0822\n",
      "Average loss so far: 0.3292\n"
     ]
    },
    {
     "name": "stderr",
     "output_type": "stream",
     "text": [
      "Epoch 1/10:   9%|▊         | 28011/328056 [10:51<53:39, 93.19it/s, Avg Loss=0.3228]  "
     ]
    },
    {
     "name": "stdout",
     "output_type": "stream",
     "text": [
      "\n",
      "Batch 28000\n",
      "Current batch loss: 0.0684\n",
      "Average loss so far: 0.3229\n"
     ]
    },
    {
     "name": "stderr",
     "output_type": "stream",
     "text": [
      "Epoch 1/10:   9%|▉         | 29011/328056 [11:02<1:05:20, 76.28it/s, Avg Loss=0.3169]"
     ]
    },
    {
     "name": "stdout",
     "output_type": "stream",
     "text": [
      "\n",
      "Batch 29000\n",
      "Current batch loss: 0.0424\n",
      "Average loss so far: 0.3170\n"
     ]
    },
    {
     "name": "stderr",
     "output_type": "stream",
     "text": [
      "Epoch 1/10:   9%|▉         | 30012/328056 [11:13<54:17, 91.48it/s, Avg Loss=0.3110]  "
     ]
    },
    {
     "name": "stdout",
     "output_type": "stream",
     "text": [
      "\n",
      "Batch 30000\n",
      "Current batch loss: 0.1776\n",
      "Average loss so far: 0.3111\n"
     ]
    },
    {
     "name": "stderr",
     "output_type": "stream",
     "text": [
      "Epoch 1/10:   9%|▉         | 31017/328056 [11:25<52:49, 93.73it/s, Avg Loss=0.3056]  "
     ]
    },
    {
     "name": "stdout",
     "output_type": "stream",
     "text": [
      "\n",
      "Batch 31000\n",
      "Current batch loss: 0.1677\n",
      "Average loss so far: 0.3057\n"
     ]
    },
    {
     "name": "stderr",
     "output_type": "stream",
     "text": [
      "Epoch 1/10:  10%|▉         | 32015/328056 [11:36<52:46, 93.49it/s, Avg Loss=0.3003]  "
     ]
    },
    {
     "name": "stdout",
     "output_type": "stream",
     "text": [
      "\n",
      "Batch 32000\n",
      "Current batch loss: 0.0540\n",
      "Average loss so far: 0.3004\n"
     ]
    },
    {
     "name": "stderr",
     "output_type": "stream",
     "text": [
      "Epoch 1/10:  10%|█         | 33012/328056 [11:47<54:23, 90.42it/s, Avg Loss=0.2953]"
     ]
    },
    {
     "name": "stdout",
     "output_type": "stream",
     "text": [
      "\n",
      "Batch 33000\n",
      "Current batch loss: 0.0503\n",
      "Average loss so far: 0.2954\n"
     ]
    },
    {
     "name": "stderr",
     "output_type": "stream",
     "text": [
      "Epoch 1/10:  10%|█         | 34017/328056 [11:58<51:54, 94.42it/s, Avg Loss=0.2905]  "
     ]
    },
    {
     "name": "stdout",
     "output_type": "stream",
     "text": [
      "\n",
      "Batch 34000\n",
      "Current batch loss: 0.0162\n",
      "Average loss so far: 0.2905\n"
     ]
    },
    {
     "name": "stderr",
     "output_type": "stream",
     "text": [
      "Epoch 1/10:  11%|█         | 35015/328056 [12:09<51:26, 94.95it/s, Avg Loss=0.2856]  "
     ]
    },
    {
     "name": "stdout",
     "output_type": "stream",
     "text": [
      "\n",
      "Batch 35000\n",
      "Current batch loss: 0.0551\n",
      "Average loss so far: 0.2856\n"
     ]
    },
    {
     "name": "stderr",
     "output_type": "stream",
     "text": [
      "Epoch 1/10:  11%|█         | 36014/328056 [12:20<54:29, 89.32it/s, Avg Loss=0.2810]  "
     ]
    },
    {
     "name": "stdout",
     "output_type": "stream",
     "text": [
      "\n",
      "Batch 36000\n",
      "Current batch loss: 0.0735\n",
      "Average loss so far: 0.2811\n"
     ]
    },
    {
     "name": "stderr",
     "output_type": "stream",
     "text": [
      "Epoch 1/10:  11%|█▏        | 37015/328056 [12:31<54:49, 88.48it/s, Avg Loss=0.2766]  "
     ]
    },
    {
     "name": "stdout",
     "output_type": "stream",
     "text": [
      "\n",
      "Batch 37000\n",
      "Current batch loss: 0.1906\n",
      "Average loss so far: 0.2766\n"
     ]
    },
    {
     "name": "stderr",
     "output_type": "stream",
     "text": [
      "Epoch 1/10:  12%|█▏        | 38010/328056 [12:42<53:24, 90.52it/s, Avg Loss=0.2723]  "
     ]
    },
    {
     "name": "stdout",
     "output_type": "stream",
     "text": [
      "\n",
      "Batch 38000\n",
      "Current batch loss: 0.0611\n",
      "Average loss so far: 0.2723\n"
     ]
    },
    {
     "name": "stderr",
     "output_type": "stream",
     "text": [
      "Epoch 1/10:  12%|█▏        | 39012/328056 [12:54<51:44, 93.11it/s, Avg Loss=0.2680]  "
     ]
    },
    {
     "name": "stdout",
     "output_type": "stream",
     "text": [
      "\n",
      "Batch 39000\n",
      "Current batch loss: 0.0130\n",
      "Average loss so far: 0.2681\n"
     ]
    },
    {
     "name": "stderr",
     "output_type": "stream",
     "text": [
      "Epoch 1/10:  12%|█▏        | 40013/328056 [13:05<51:01, 94.09it/s, Avg Loss=0.2641]"
     ]
    },
    {
     "name": "stdout",
     "output_type": "stream",
     "text": [
      "\n",
      "Batch 40000\n",
      "Current batch loss: 0.1584\n",
      "Average loss so far: 0.2642\n"
     ]
    },
    {
     "name": "stderr",
     "output_type": "stream",
     "text": [
      "Epoch 1/10:  13%|█▎        | 41013/328056 [13:16<50:34, 94.60it/s, Avg Loss=0.2601]"
     ]
    },
    {
     "name": "stdout",
     "output_type": "stream",
     "text": [
      "\n",
      "Batch 41000\n",
      "Current batch loss: 0.0202\n",
      "Average loss so far: 0.2602\n"
     ]
    },
    {
     "name": "stderr",
     "output_type": "stream",
     "text": [
      "Epoch 1/10:  13%|█▎        | 42017/328056 [13:27<51:41, 92.22it/s, Avg Loss=0.2564]  "
     ]
    },
    {
     "name": "stdout",
     "output_type": "stream",
     "text": [
      "\n",
      "Batch 42000\n",
      "Current batch loss: 0.1896\n",
      "Average loss so far: 0.2565\n"
     ]
    },
    {
     "name": "stderr",
     "output_type": "stream",
     "text": [
      "Epoch 1/10:  13%|█▎        | 43016/328056 [13:38<52:21, 90.73it/s, Avg Loss=0.2526]  "
     ]
    },
    {
     "name": "stdout",
     "output_type": "stream",
     "text": [
      "\n",
      "Batch 43000\n",
      "Current batch loss: 0.0035\n",
      "Average loss so far: 0.2527\n"
     ]
    },
    {
     "name": "stderr",
     "output_type": "stream",
     "text": [
      "Epoch 1/10:  13%|█▎        | 44018/328056 [13:49<53:41, 88.16it/s, Avg Loss=0.2491]  "
     ]
    },
    {
     "name": "stdout",
     "output_type": "stream",
     "text": [
      "\n",
      "Batch 44000\n",
      "Current batch loss: 0.2342\n",
      "Average loss so far: 0.2492\n"
     ]
    },
    {
     "name": "stderr",
     "output_type": "stream",
     "text": [
      "Epoch 1/10:  14%|█▎        | 45014/328056 [14:00<53:03, 88.90it/s, Avg Loss=0.2456]"
     ]
    },
    {
     "name": "stdout",
     "output_type": "stream",
     "text": [
      "\n",
      "Batch 45000\n",
      "Current batch loss: 0.0260\n",
      "Average loss so far: 0.2457\n"
     ]
    },
    {
     "name": "stderr",
     "output_type": "stream",
     "text": [
      "Epoch 1/10:  14%|█▍        | 46009/328056 [14:11<51:09, 91.90it/s, Avg Loss=0.2423]  "
     ]
    },
    {
     "name": "stdout",
     "output_type": "stream",
     "text": [
      "\n",
      "Batch 46000\n",
      "Current batch loss: 0.0002\n",
      "Average loss so far: 0.2424\n"
     ]
    },
    {
     "name": "stderr",
     "output_type": "stream",
     "text": [
      "Epoch 1/10:  14%|█▍        | 47016/328056 [14:23<50:38, 92.50it/s, Avg Loss=0.2391]"
     ]
    },
    {
     "name": "stdout",
     "output_type": "stream",
     "text": [
      "\n",
      "Batch 47000\n",
      "Current batch loss: 0.0327\n",
      "Average loss so far: 0.2391\n"
     ]
    },
    {
     "name": "stderr",
     "output_type": "stream",
     "text": [
      "Epoch 1/10:  15%|█▍        | 48013/328056 [14:33<50:34, 92.30it/s, Avg Loss=0.2359]"
     ]
    },
    {
     "name": "stdout",
     "output_type": "stream",
     "text": [
      "\n",
      "Batch 48000\n",
      "Current batch loss: 0.2901\n",
      "Average loss so far: 0.2360\n"
     ]
    },
    {
     "name": "stderr",
     "output_type": "stream",
     "text": [
      "Epoch 1/10:  15%|█▍        | 49012/328056 [14:45<49:32, 93.87it/s, Avg Loss=0.2328]  "
     ]
    },
    {
     "name": "stdout",
     "output_type": "stream",
     "text": [
      "\n",
      "Batch 49000\n",
      "Current batch loss: 0.1140\n",
      "Average loss so far: 0.2329\n"
     ]
    },
    {
     "name": "stderr",
     "output_type": "stream",
     "text": [
      "Epoch 1/10:  15%|█▌        | 50016/328056 [14:56<1:01:12, 75.72it/s, Avg Loss=0.2299]"
     ]
    },
    {
     "name": "stdout",
     "output_type": "stream",
     "text": [
      "\n",
      "Batch 50000\n",
      "Current batch loss: 0.0005\n",
      "Average loss so far: 0.2300\n"
     ]
    },
    {
     "name": "stderr",
     "output_type": "stream",
     "text": [
      "Epoch 1/10:  16%|█▌        | 51013/328056 [15:07<49:23, 93.48it/s, Avg Loss=0.2270]  "
     ]
    },
    {
     "name": "stdout",
     "output_type": "stream",
     "text": [
      "\n",
      "Batch 51000\n",
      "Current batch loss: 0.0013\n",
      "Average loss so far: 0.2270\n"
     ]
    },
    {
     "name": "stderr",
     "output_type": "stream",
     "text": [
      "Epoch 1/10:  16%|█▌        | 52011/328056 [15:18<49:38, 92.67it/s, Avg Loss=0.2241]"
     ]
    },
    {
     "name": "stdout",
     "output_type": "stream",
     "text": [
      "\n",
      "Batch 52000\n",
      "Current batch loss: 0.0791\n",
      "Average loss so far: 0.2242\n"
     ]
    },
    {
     "name": "stderr",
     "output_type": "stream",
     "text": [
      "Epoch 1/10:  16%|█▌        | 53018/328056 [15:29<49:00, 93.52it/s, Avg Loss=0.2213]"
     ]
    },
    {
     "name": "stdout",
     "output_type": "stream",
     "text": [
      "\n",
      "Batch 53000\n",
      "Current batch loss: 0.1815\n",
      "Average loss so far: 0.2214\n"
     ]
    },
    {
     "name": "stderr",
     "output_type": "stream",
     "text": [
      "Epoch 1/10:  16%|█▋        | 54016/328056 [15:39<48:02, 95.09it/s, Avg Loss=0.2186]"
     ]
    },
    {
     "name": "stdout",
     "output_type": "stream",
     "text": [
      "\n",
      "Batch 54000\n",
      "Current batch loss: 0.0887\n",
      "Average loss so far: 0.2186\n"
     ]
    },
    {
     "name": "stderr",
     "output_type": "stream",
     "text": [
      "Epoch 1/10:  17%|█▋        | 55014/328056 [15:50<47:51, 95.08it/s, Avg Loss=0.2159]"
     ]
    },
    {
     "name": "stdout",
     "output_type": "stream",
     "text": [
      "\n",
      "Batch 55000\n",
      "Current batch loss: 0.0491\n",
      "Average loss so far: 0.2159\n"
     ]
    },
    {
     "name": "stderr",
     "output_type": "stream",
     "text": [
      "Epoch 1/10:  17%|█▋        | 56012/328056 [16:02<49:06, 92.32it/s, Avg Loss=0.2133]  "
     ]
    },
    {
     "name": "stdout",
     "output_type": "stream",
     "text": [
      "\n",
      "Batch 56000\n",
      "Current batch loss: 0.1398\n",
      "Average loss so far: 0.2134\n"
     ]
    },
    {
     "name": "stderr",
     "output_type": "stream",
     "text": [
      "Epoch 1/10:  17%|█▋        | 57014/328056 [16:13<50:40, 89.15it/s, Avg Loss=0.2108]"
     ]
    },
    {
     "name": "stdout",
     "output_type": "stream",
     "text": [
      "\n",
      "Batch 57000\n",
      "Current batch loss: 0.0914\n",
      "Average loss so far: 0.2109\n"
     ]
    },
    {
     "name": "stderr",
     "output_type": "stream",
     "text": [
      "Epoch 1/10:  18%|█▊        | 58009/328056 [16:24<53:03, 84.82it/s, Avg Loss=0.2084]  "
     ]
    },
    {
     "name": "stdout",
     "output_type": "stream",
     "text": [
      "\n",
      "Batch 58000\n",
      "Current batch loss: 0.2855\n",
      "Average loss so far: 0.2084\n"
     ]
    },
    {
     "name": "stderr",
     "output_type": "stream",
     "text": [
      "Epoch 1/10:  18%|█▊        | 59009/328056 [16:35<49:04, 91.37it/s, Avg Loss=0.2059]  "
     ]
    },
    {
     "name": "stdout",
     "output_type": "stream",
     "text": [
      "\n",
      "Batch 59000\n",
      "Current batch loss: 0.1117\n",
      "Average loss so far: 0.2060\n"
     ]
    },
    {
     "name": "stderr",
     "output_type": "stream",
     "text": [
      "Epoch 1/10:  18%|█▊        | 60017/328056 [16:46<47:39, 93.75it/s, Avg Loss=0.2035]"
     ]
    },
    {
     "name": "stdout",
     "output_type": "stream",
     "text": [
      "\n",
      "Batch 60000\n",
      "Current batch loss: 0.0324\n",
      "Average loss so far: 0.2036\n"
     ]
    },
    {
     "name": "stderr",
     "output_type": "stream",
     "text": [
      "Epoch 1/10:  19%|█▊        | 61008/328056 [16:57<57:04, 77.98it/s, Avg Loss=0.2013]"
     ]
    },
    {
     "name": "stdout",
     "output_type": "stream",
     "text": [
      "\n",
      "Batch 61000\n",
      "Current batch loss: 0.1004\n",
      "Average loss so far: 0.2013\n"
     ]
    },
    {
     "name": "stderr",
     "output_type": "stream",
     "text": [
      "Epoch 1/10:  19%|█▉        | 62016/328056 [17:08<47:08, 94.07it/s, Avg Loss=0.1990]  "
     ]
    },
    {
     "name": "stdout",
     "output_type": "stream",
     "text": [
      "\n",
      "Batch 62000\n",
      "Current batch loss: 0.0494\n",
      "Average loss so far: 0.1990\n"
     ]
    },
    {
     "name": "stderr",
     "output_type": "stream",
     "text": [
      "Epoch 1/10:  19%|█▉        | 63015/328056 [17:19<46:32, 94.92it/s, Avg Loss=0.1967]"
     ]
    },
    {
     "name": "stdout",
     "output_type": "stream",
     "text": [
      "\n",
      "Batch 63000\n",
      "Current batch loss: 0.0007\n",
      "Average loss so far: 0.1968\n"
     ]
    },
    {
     "name": "stderr",
     "output_type": "stream",
     "text": [
      "Epoch 1/10:  20%|█▉        | 64014/328056 [17:30<46:30, 94.61it/s, Avg Loss=0.1946]"
     ]
    },
    {
     "name": "stdout",
     "output_type": "stream",
     "text": [
      "\n",
      "Batch 64000\n",
      "Current batch loss: 0.0029\n",
      "Average loss so far: 0.1946\n"
     ]
    },
    {
     "name": "stderr",
     "output_type": "stream",
     "text": [
      "Epoch 1/10:  20%|█▉        | 65012/328056 [17:40<46:20, 94.61it/s, Avg Loss=0.1925]"
     ]
    },
    {
     "name": "stdout",
     "output_type": "stream",
     "text": [
      "\n",
      "Batch 65000\n",
      "Current batch loss: 0.0774\n",
      "Average loss so far: 0.1925\n"
     ]
    },
    {
     "name": "stderr",
     "output_type": "stream",
     "text": [
      "Epoch 1/10:  20%|██        | 66010/328056 [17:51<46:28, 93.99it/s, Avg Loss=0.1904]"
     ]
    },
    {
     "name": "stdout",
     "output_type": "stream",
     "text": [
      "\n",
      "Batch 66000\n",
      "Current batch loss: 0.0162\n",
      "Average loss so far: 0.1904\n"
     ]
    },
    {
     "name": "stderr",
     "output_type": "stream",
     "text": [
      "Epoch 1/10:  20%|██        | 67008/328056 [18:02<49:01, 88.75it/s, Avg Loss=0.1884]"
     ]
    },
    {
     "name": "stdout",
     "output_type": "stream",
     "text": [
      "\n",
      "Batch 67000\n",
      "Current batch loss: 0.0047\n",
      "Average loss so far: 0.1884\n"
     ]
    },
    {
     "name": "stderr",
     "output_type": "stream",
     "text": [
      "Epoch 1/10:  21%|██        | 68010/328056 [18:13<47:37, 90.99it/s, Avg Loss=0.1864]  "
     ]
    },
    {
     "name": "stdout",
     "output_type": "stream",
     "text": [
      "\n",
      "Batch 68000\n",
      "Current batch loss: 0.1768\n",
      "Average loss so far: 0.1864\n"
     ]
    },
    {
     "name": "stderr",
     "output_type": "stream",
     "text": [
      "Epoch 1/10:  21%|██        | 69012/328056 [18:24<51:27, 83.90it/s, Avg Loss=0.1845]"
     ]
    },
    {
     "name": "stdout",
     "output_type": "stream",
     "text": [
      "\n",
      "Batch 69000\n",
      "Current batch loss: 0.0001\n",
      "Average loss so far: 0.1845\n"
     ]
    },
    {
     "name": "stderr",
     "output_type": "stream",
     "text": [
      "Epoch 1/10:  21%|██▏       | 70009/328056 [18:35<51:29, 83.51it/s, Avg Loss=0.1826]"
     ]
    },
    {
     "name": "stdout",
     "output_type": "stream",
     "text": [
      "\n",
      "Batch 70000\n",
      "Current batch loss: 0.0845\n",
      "Average loss so far: 0.1826\n"
     ]
    },
    {
     "name": "stderr",
     "output_type": "stream",
     "text": [
      "Epoch 1/10:  22%|██▏       | 71013/328056 [18:46<48:17, 88.72it/s, Avg Loss=0.1807]  "
     ]
    },
    {
     "name": "stdout",
     "output_type": "stream",
     "text": [
      "\n",
      "Batch 71000\n",
      "Current batch loss: 0.0285\n",
      "Average loss so far: 0.1807\n"
     ]
    },
    {
     "name": "stderr",
     "output_type": "stream",
     "text": [
      "Epoch 1/10:  22%|██▏       | 72010/328056 [18:57<47:46, 89.33it/s, Avg Loss=0.1789]"
     ]
    },
    {
     "name": "stdout",
     "output_type": "stream",
     "text": [
      "\n",
      "Batch 72000\n",
      "Current batch loss: 0.0742\n",
      "Average loss so far: 0.1789\n"
     ]
    },
    {
     "name": "stderr",
     "output_type": "stream",
     "text": [
      "Epoch 1/10:  22%|██▏       | 73010/328056 [19:08<47:51, 88.83it/s, Avg Loss=0.1771]"
     ]
    },
    {
     "name": "stdout",
     "output_type": "stream",
     "text": [
      "\n",
      "Batch 73000\n",
      "Current batch loss: 0.0278\n",
      "Average loss so far: 0.1772\n"
     ]
    },
    {
     "name": "stderr",
     "output_type": "stream",
     "text": [
      "Epoch 1/10:  23%|██▎       | 74018/328056 [19:19<45:54, 92.22it/s, Avg Loss=0.1754]  "
     ]
    },
    {
     "name": "stdout",
     "output_type": "stream",
     "text": [
      "\n",
      "Batch 74000\n",
      "Current batch loss: 0.0645\n",
      "Average loss so far: 0.1754\n"
     ]
    },
    {
     "name": "stderr",
     "output_type": "stream",
     "text": [
      "Epoch 1/10:  23%|██▎       | 75016/328056 [19:30<45:26, 92.80it/s, Avg Loss=0.1736]"
     ]
    },
    {
     "name": "stdout",
     "output_type": "stream",
     "text": [
      "\n",
      "Batch 75000\n",
      "Current batch loss: 0.0951\n",
      "Average loss so far: 0.1737\n"
     ]
    },
    {
     "name": "stderr",
     "output_type": "stream",
     "text": [
      "Epoch 1/10:  23%|██▎       | 76013/328056 [19:41<45:29, 92.34it/s, Avg Loss=0.1719]"
     ]
    },
    {
     "name": "stdout",
     "output_type": "stream",
     "text": [
      "\n",
      "Batch 76000\n",
      "Current batch loss: 0.0010\n",
      "Average loss so far: 0.1719\n"
     ]
    },
    {
     "name": "stderr",
     "output_type": "stream",
     "text": [
      "Epoch 1/10:  23%|██▎       | 77017/328056 [19:52<45:16, 92.41it/s, Avg Loss=0.1702]"
     ]
    },
    {
     "name": "stdout",
     "output_type": "stream",
     "text": [
      "\n",
      "Batch 77000\n",
      "Current batch loss: 0.1552\n",
      "Average loss so far: 0.1703\n"
     ]
    },
    {
     "name": "stderr",
     "output_type": "stream",
     "text": [
      "Epoch 1/10:  24%|██▍       | 78014/328056 [20:04<45:55, 90.75it/s, Avg Loss=0.1686]  "
     ]
    },
    {
     "name": "stdout",
     "output_type": "stream",
     "text": [
      "\n",
      "Batch 78000\n",
      "Current batch loss: 0.2333\n",
      "Average loss so far: 0.1686\n"
     ]
    },
    {
     "name": "stderr",
     "output_type": "stream",
     "text": [
      "Epoch 1/10:  24%|██▍       | 79011/328056 [20:15<44:18, 93.67it/s, Avg Loss=0.1670]"
     ]
    },
    {
     "name": "stdout",
     "output_type": "stream",
     "text": [
      "\n",
      "Batch 79000\n",
      "Current batch loss: 0.0011\n",
      "Average loss so far: 0.1670\n"
     ]
    },
    {
     "name": "stderr",
     "output_type": "stream",
     "text": [
      "Epoch 1/10:  24%|██▍       | 80009/328056 [20:26<44:29, 92.93it/s, Avg Loss=0.1654]"
     ]
    },
    {
     "name": "stdout",
     "output_type": "stream",
     "text": [
      "\n",
      "Batch 80000\n",
      "Current batch loss: 0.0034\n",
      "Average loss so far: 0.1655\n"
     ]
    },
    {
     "name": "stderr",
     "output_type": "stream",
     "text": [
      "Epoch 1/10:  25%|██▍       | 81014/328056 [20:37<44:05, 93.39it/s, Avg Loss=0.1639]  "
     ]
    },
    {
     "name": "stdout",
     "output_type": "stream",
     "text": [
      "\n",
      "Batch 81000\n",
      "Current batch loss: 0.0008\n",
      "Average loss so far: 0.1639\n"
     ]
    },
    {
     "name": "stderr",
     "output_type": "stream",
     "text": [
      "Epoch 1/10:  25%|██▍       | 82013/328056 [20:48<44:35, 91.98it/s, Avg Loss=0.1623]"
     ]
    },
    {
     "name": "stdout",
     "output_type": "stream",
     "text": [
      "\n",
      "Batch 82000\n",
      "Current batch loss: 0.1603\n",
      "Average loss so far: 0.1624\n"
     ]
    },
    {
     "name": "stderr",
     "output_type": "stream",
     "text": [
      "Epoch 1/10:  25%|██▌       | 83012/328056 [20:59<43:31, 93.84it/s, Avg Loss=0.1609]"
     ]
    },
    {
     "name": "stdout",
     "output_type": "stream",
     "text": [
      "\n",
      "Batch 83000\n",
      "Current batch loss: 0.1321\n",
      "Average loss so far: 0.1609\n"
     ]
    },
    {
     "name": "stderr",
     "output_type": "stream",
     "text": [
      "Epoch 1/10:  26%|██▌       | 84011/328056 [21:10<42:40, 95.32it/s, Avg Loss=0.1594]"
     ]
    },
    {
     "name": "stdout",
     "output_type": "stream",
     "text": [
      "\n",
      "Batch 84000\n",
      "Current batch loss: 0.0008\n",
      "Average loss so far: 0.1594\n"
     ]
    },
    {
     "name": "stderr",
     "output_type": "stream",
     "text": [
      "Epoch 1/10:  26%|██▌       | 85010/328056 [21:20<44:07, 91.82it/s, Avg Loss=0.1579]"
     ]
    },
    {
     "name": "stdout",
     "output_type": "stream",
     "text": [
      "\n",
      "Batch 85000\n",
      "Current batch loss: 0.0027\n",
      "Average loss so far: 0.1580\n"
     ]
    },
    {
     "name": "stderr",
     "output_type": "stream",
     "text": [
      "Epoch 1/10:  26%|██▌       | 86011/328056 [21:32<43:19, 93.10it/s, Avg Loss=0.1565]  "
     ]
    },
    {
     "name": "stdout",
     "output_type": "stream",
     "text": [
      "\n",
      "Batch 86000\n",
      "Current batch loss: 0.0095\n",
      "Average loss so far: 0.1566\n"
     ]
    },
    {
     "name": "stderr",
     "output_type": "stream",
     "text": [
      "Epoch 1/10:  27%|██▋       | 87017/328056 [21:43<43:29, 92.37it/s, Avg Loss=0.1551]"
     ]
    },
    {
     "name": "stdout",
     "output_type": "stream",
     "text": [
      "\n",
      "Batch 87000\n",
      "Current batch loss: 0.0007\n",
      "Average loss so far: 0.1552\n"
     ]
    },
    {
     "name": "stderr",
     "output_type": "stream",
     "text": [
      "Epoch 1/10:  27%|██▋       | 88013/328056 [21:54<42:41, 93.70it/s, Avg Loss=0.1538]"
     ]
    },
    {
     "name": "stdout",
     "output_type": "stream",
     "text": [
      "\n",
      "Batch 88000\n",
      "Current batch loss: 0.0183\n",
      "Average loss so far: 0.1538\n"
     ]
    },
    {
     "name": "stderr",
     "output_type": "stream",
     "text": [
      "Epoch 1/10:  27%|██▋       | 89012/328056 [22:05<42:15, 94.29it/s, Avg Loss=0.1525]"
     ]
    },
    {
     "name": "stdout",
     "output_type": "stream",
     "text": [
      "\n",
      "Batch 89000\n",
      "Current batch loss: 0.0257\n",
      "Average loss so far: 0.1525\n"
     ]
    },
    {
     "name": "stderr",
     "output_type": "stream",
     "text": [
      "Epoch 1/10:  27%|██▋       | 90010/328056 [22:16<42:04, 94.28it/s, Avg Loss=0.1512]"
     ]
    },
    {
     "name": "stdout",
     "output_type": "stream",
     "text": [
      "\n",
      "Batch 90000\n",
      "Current batch loss: 0.0003\n",
      "Average loss so far: 0.1512\n"
     ]
    },
    {
     "name": "stderr",
     "output_type": "stream",
     "text": [
      "Epoch 1/10:  28%|██▊       | 91009/328056 [22:26<42:15, 93.50it/s, Avg Loss=0.1499]"
     ]
    },
    {
     "name": "stdout",
     "output_type": "stream",
     "text": [
      "\n",
      "Batch 91000\n",
      "Current batch loss: 0.0041\n",
      "Average loss so far: 0.1499\n"
     ]
    },
    {
     "name": "stderr",
     "output_type": "stream",
     "text": [
      "Epoch 1/10:  28%|██▊       | 92018/328056 [22:37<42:44, 92.04it/s, Avg Loss=0.1486]"
     ]
    },
    {
     "name": "stdout",
     "output_type": "stream",
     "text": [
      "\n",
      "Batch 92000\n",
      "Current batch loss: 0.0070\n",
      "Average loss so far: 0.1486\n"
     ]
    },
    {
     "name": "stderr",
     "output_type": "stream",
     "text": [
      "Epoch 1/10:  28%|██▊       | 93009/328056 [22:49<41:58, 93.35it/s, Avg Loss=0.1473]  "
     ]
    },
    {
     "name": "stdout",
     "output_type": "stream",
     "text": [
      "\n",
      "Batch 93000\n",
      "Current batch loss: 0.0103\n",
      "Average loss so far: 0.1474\n"
     ]
    },
    {
     "name": "stderr",
     "output_type": "stream",
     "text": [
      "Epoch 1/10:  29%|██▊       | 94018/328056 [23:00<44:49, 87.03it/s, Avg Loss=0.1461]"
     ]
    },
    {
     "name": "stdout",
     "output_type": "stream",
     "text": [
      "\n",
      "Batch 94000\n",
      "Current batch loss: 0.0258\n",
      "Average loss so far: 0.1461\n"
     ]
    },
    {
     "name": "stderr",
     "output_type": "stream",
     "text": [
      "Epoch 1/10:  29%|██▉       | 95008/328056 [23:11<41:29, 93.63it/s, Avg Loss=0.1449]"
     ]
    },
    {
     "name": "stdout",
     "output_type": "stream",
     "text": [
      "\n",
      "Batch 95000\n",
      "Current batch loss: 0.0060\n",
      "Average loss so far: 0.1449\n"
     ]
    },
    {
     "name": "stderr",
     "output_type": "stream",
     "text": [
      "Epoch 1/10:  29%|██▉       | 96010/328056 [23:22<59:28, 65.03it/s, Avg Loss=0.1437]  "
     ]
    },
    {
     "name": "stdout",
     "output_type": "stream",
     "text": [
      "\n",
      "Batch 96000\n",
      "Current batch loss: 0.0534\n",
      "Average loss so far: 0.1437\n"
     ]
    },
    {
     "name": "stderr",
     "output_type": "stream",
     "text": [
      "Epoch 1/10:  30%|██▉       | 97018/328056 [23:33<42:55, 89.71it/s, Avg Loss=0.1426]"
     ]
    },
    {
     "name": "stdout",
     "output_type": "stream",
     "text": [
      "\n",
      "Batch 97000\n",
      "Current batch loss: 0.0430\n",
      "Average loss so far: 0.1426\n"
     ]
    },
    {
     "name": "stderr",
     "output_type": "stream",
     "text": [
      "Epoch 1/10:  30%|██▉       | 98011/328056 [23:44<47:32, 80.63it/s, Avg Loss=0.1414]"
     ]
    },
    {
     "name": "stdout",
     "output_type": "stream",
     "text": [
      "\n",
      "Batch 98000\n",
      "Current batch loss: 0.2624\n",
      "Average loss so far: 0.1414\n"
     ]
    },
    {
     "name": "stderr",
     "output_type": "stream",
     "text": [
      "Epoch 1/10:  30%|███       | 99018/328056 [23:55<41:29, 91.99it/s, Avg Loss=0.1403]"
     ]
    },
    {
     "name": "stdout",
     "output_type": "stream",
     "text": [
      "\n",
      "Batch 99000\n",
      "Current batch loss: 0.0001\n",
      "Average loss so far: 0.1403\n"
     ]
    },
    {
     "name": "stderr",
     "output_type": "stream",
     "text": [
      "Epoch 1/10:  30%|███       | 100016/328056 [24:06<42:09, 90.16it/s, Avg Loss=0.1392]"
     ]
    },
    {
     "name": "stdout",
     "output_type": "stream",
     "text": [
      "\n",
      "Batch 100000\n",
      "Current batch loss: 0.0003\n",
      "Average loss so far: 0.1392\n"
     ]
    },
    {
     "name": "stderr",
     "output_type": "stream",
     "text": [
      "Epoch 1/10:  31%|███       | 101010/328056 [24:17<41:19, 91.56it/s, Avg Loss=0.1381]"
     ]
    },
    {
     "name": "stdout",
     "output_type": "stream",
     "text": [
      "\n",
      "Batch 101000\n",
      "Current batch loss: 0.0001\n",
      "Average loss so far: 0.1381\n"
     ]
    },
    {
     "name": "stderr",
     "output_type": "stream",
     "text": [
      "Epoch 1/10:  31%|███       | 102014/328056 [24:28<41:30, 90.75it/s, Avg Loss=0.1370]"
     ]
    },
    {
     "name": "stdout",
     "output_type": "stream",
     "text": [
      "\n",
      "Batch 102000\n",
      "Current batch loss: 0.0023\n",
      "Average loss so far: 0.1370\n"
     ]
    },
    {
     "name": "stderr",
     "output_type": "stream",
     "text": [
      "Epoch 1/10:  31%|███▏      | 103014/328056 [24:39<40:08, 93.45it/s, Avg Loss=0.1359]"
     ]
    },
    {
     "name": "stdout",
     "output_type": "stream",
     "text": [
      "\n",
      "Batch 103000\n",
      "Current batch loss: 0.1152\n",
      "Average loss so far: 0.1359\n"
     ]
    },
    {
     "name": "stderr",
     "output_type": "stream",
     "text": [
      "Epoch 1/10:  32%|███▏      | 104010/328056 [24:50<39:45, 93.91it/s, Avg Loss=0.1349]"
     ]
    },
    {
     "name": "stdout",
     "output_type": "stream",
     "text": [
      "\n",
      "Batch 104000\n",
      "Current batch loss: 0.0003\n",
      "Average loss so far: 0.1349\n"
     ]
    },
    {
     "name": "stderr",
     "output_type": "stream",
     "text": [
      "Epoch 1/10:  32%|███▏      | 105009/328056 [25:02<43:50, 84.79it/s, Avg Loss=0.1338]"
     ]
    },
    {
     "name": "stdout",
     "output_type": "stream",
     "text": [
      "\n",
      "Batch 105000\n",
      "Current batch loss: 0.0624\n",
      "Average loss so far: 0.1339\n"
     ]
    },
    {
     "name": "stderr",
     "output_type": "stream",
     "text": [
      "Epoch 1/10:  32%|███▏      | 106014/328056 [25:13<39:53, 92.76it/s, Avg Loss=0.1328]"
     ]
    },
    {
     "name": "stdout",
     "output_type": "stream",
     "text": [
      "\n",
      "Batch 106000\n",
      "Current batch loss: 0.0001\n",
      "Average loss so far: 0.1328\n"
     ]
    },
    {
     "name": "stderr",
     "output_type": "stream",
     "text": [
      "Epoch 1/10:  33%|███▎      | 107011/328056 [25:24<39:40, 92.87it/s, Avg Loss=0.1318]"
     ]
    },
    {
     "name": "stdout",
     "output_type": "stream",
     "text": [
      "\n",
      "Batch 107000\n",
      "Current batch loss: 0.0008\n",
      "Average loss so far: 0.1318\n"
     ]
    },
    {
     "name": "stderr",
     "output_type": "stream",
     "text": [
      "Epoch 1/10:  33%|███▎      | 108014/328056 [25:35<44:20, 82.70it/s, Avg Loss=0.1308]"
     ]
    },
    {
     "name": "stdout",
     "output_type": "stream",
     "text": [
      "\n",
      "Batch 108000\n",
      "Current batch loss: 0.0010\n",
      "Average loss so far: 0.1309\n"
     ]
    },
    {
     "name": "stderr",
     "output_type": "stream",
     "text": [
      "Epoch 1/10:  33%|███▎      | 109017/328056 [25:46<38:58, 93.68it/s, Avg Loss=0.1299]"
     ]
    },
    {
     "name": "stdout",
     "output_type": "stream",
     "text": [
      "\n",
      "Batch 109000\n",
      "Current batch loss: 0.0000\n",
      "Average loss so far: 0.1299\n"
     ]
    },
    {
     "name": "stderr",
     "output_type": "stream",
     "text": [
      "Epoch 1/10:  34%|███▎      | 110015/328056 [25:57<38:19, 94.83it/s, Avg Loss=0.1289]"
     ]
    },
    {
     "name": "stdout",
     "output_type": "stream",
     "text": [
      "\n",
      "Batch 110000\n",
      "Current batch loss: 0.0152\n",
      "Average loss so far: 0.1289\n"
     ]
    },
    {
     "name": "stderr",
     "output_type": "stream",
     "text": [
      "Epoch 1/10:  34%|███▍      | 111013/328056 [26:08<38:21, 94.31it/s, Avg Loss=0.1280]"
     ]
    },
    {
     "name": "stdout",
     "output_type": "stream",
     "text": [
      "\n",
      "Batch 111000\n",
      "Current batch loss: 0.0024\n",
      "Average loss so far: 0.1280\n"
     ]
    },
    {
     "name": "stderr",
     "output_type": "stream",
     "text": [
      "Epoch 1/10:  34%|███▍      | 112013/328056 [26:18<38:07, 94.44it/s, Avg Loss=0.1270]"
     ]
    },
    {
     "name": "stdout",
     "output_type": "stream",
     "text": [
      "\n",
      "Batch 112000\n",
      "Current batch loss: 0.0166\n",
      "Average loss so far: 0.1270\n"
     ]
    },
    {
     "name": "stderr",
     "output_type": "stream",
     "text": [
      "Epoch 1/10:  34%|███▍      | 113014/328056 [26:30<40:24, 88.71it/s, Avg Loss=0.1261]"
     ]
    },
    {
     "name": "stdout",
     "output_type": "stream",
     "text": [
      "\n",
      "Batch 113000\n",
      "Current batch loss: 0.0000\n",
      "Average loss so far: 0.1261\n"
     ]
    },
    {
     "name": "stderr",
     "output_type": "stream",
     "text": [
      "Epoch 1/10:  35%|███▍      | 114015/328056 [26:41<38:59, 91.49it/s, Avg Loss=0.1252]"
     ]
    },
    {
     "name": "stdout",
     "output_type": "stream",
     "text": [
      "\n",
      "Batch 114000\n",
      "Current batch loss: 0.0020\n",
      "Average loss so far: 0.1252\n"
     ]
    },
    {
     "name": "stderr",
     "output_type": "stream",
     "text": [
      "Epoch 1/10:  35%|███▌      | 115012/328056 [26:52<37:26, 94.84it/s, Avg Loss=0.1243]"
     ]
    },
    {
     "name": "stdout",
     "output_type": "stream",
     "text": [
      "\n",
      "Batch 115000\n",
      "Current batch loss: 0.0002\n",
      "Average loss so far: 0.1243\n"
     ]
    },
    {
     "name": "stderr",
     "output_type": "stream",
     "text": [
      "Epoch 1/10:  35%|███▌      | 116009/328056 [27:03<38:03, 92.84it/s, Avg Loss=0.1234]"
     ]
    },
    {
     "name": "stdout",
     "output_type": "stream",
     "text": [
      "\n",
      "Batch 116000\n",
      "Current batch loss: 0.0036\n",
      "Average loss so far: 0.1234\n"
     ]
    },
    {
     "name": "stderr",
     "output_type": "stream",
     "text": [
      "Epoch 1/10:  36%|███▌      | 117017/328056 [27:14<37:24, 94.03it/s, Avg Loss=0.1226]"
     ]
    },
    {
     "name": "stdout",
     "output_type": "stream",
     "text": [
      "\n",
      "Batch 117000\n",
      "Current batch loss: 0.0004\n",
      "Average loss so far: 0.1226\n"
     ]
    },
    {
     "name": "stderr",
     "output_type": "stream",
     "text": [
      "Epoch 1/10:  36%|███▌      | 118014/328056 [27:25<37:32, 93.26it/s, Avg Loss=0.1217]"
     ]
    },
    {
     "name": "stdout",
     "output_type": "stream",
     "text": [
      "\n",
      "Batch 118000\n",
      "Current batch loss: 0.0000\n",
      "Average loss so far: 0.1217\n"
     ]
    },
    {
     "name": "stderr",
     "output_type": "stream",
     "text": [
      "Epoch 1/10:  36%|███▋      | 119009/328056 [27:36<37:22, 93.21it/s, Avg Loss=0.1209]"
     ]
    },
    {
     "name": "stdout",
     "output_type": "stream",
     "text": [
      "\n",
      "Batch 119000\n",
      "Current batch loss: 0.0004\n",
      "Average loss so far: 0.1209\n"
     ]
    },
    {
     "name": "stderr",
     "output_type": "stream",
     "text": [
      "Epoch 1/10:  37%|███▋      | 120003/328056 [27:48<44:48, 77.38it/s, Avg Loss=0.1200]  "
     ]
    },
    {
     "name": "stdout",
     "output_type": "stream",
     "text": [
      "\n",
      "Batch 120000\n",
      "Current batch loss: 0.1010\n",
      "Average loss so far: 0.1201\n"
     ]
    },
    {
     "name": "stderr",
     "output_type": "stream",
     "text": [
      "Epoch 1/10:  37%|███▋      | 121013/328056 [28:01<40:56, 84.27it/s, Avg Loss=0.1192]  "
     ]
    },
    {
     "name": "stdout",
     "output_type": "stream",
     "text": [
      "\n",
      "Batch 121000\n",
      "Current batch loss: 0.1744\n",
      "Average loss so far: 0.1192\n"
     ]
    },
    {
     "name": "stderr",
     "output_type": "stream",
     "text": [
      "Epoch 1/10:  37%|███▋      | 122011/328056 [28:13<38:42, 88.73it/s, Avg Loss=0.1184]"
     ]
    },
    {
     "name": "stdout",
     "output_type": "stream",
     "text": [
      "\n",
      "Batch 122000\n",
      "Current batch loss: 0.0027\n",
      "Average loss so far: 0.1184\n"
     ]
    },
    {
     "name": "stderr",
     "output_type": "stream",
     "text": [
      "Epoch 1/10:  37%|███▋      | 123011/328056 [28:24<37:47, 90.42it/s, Avg Loss=0.1176]"
     ]
    },
    {
     "name": "stdout",
     "output_type": "stream",
     "text": [
      "\n",
      "Batch 123000\n",
      "Current batch loss: 0.0226\n",
      "Average loss so far: 0.1176\n"
     ]
    },
    {
     "name": "stderr",
     "output_type": "stream",
     "text": [
      "Epoch 1/10:  38%|███▊      | 124015/328056 [28:36<36:21, 93.55it/s, Avg Loss=0.1168]"
     ]
    },
    {
     "name": "stdout",
     "output_type": "stream",
     "text": [
      "\n",
      "Batch 124000\n",
      "Current batch loss: 0.0004\n",
      "Average loss so far: 0.1168\n"
     ]
    },
    {
     "name": "stderr",
     "output_type": "stream",
     "text": [
      "Epoch 1/10:  38%|███▊      | 125009/328056 [28:47<36:13, 93.43it/s, Avg Loss=0.1160]"
     ]
    },
    {
     "name": "stdout",
     "output_type": "stream",
     "text": [
      "\n",
      "Batch 125000\n",
      "Current batch loss: 0.1294\n",
      "Average loss so far: 0.1160\n"
     ]
    },
    {
     "name": "stderr",
     "output_type": "stream",
     "text": [
      "Epoch 1/10:  38%|███▊      | 126016/328056 [28:58<35:59, 93.54it/s, Avg Loss=0.1153]"
     ]
    },
    {
     "name": "stdout",
     "output_type": "stream",
     "text": [
      "\n",
      "Batch 126000\n",
      "Current batch loss: 0.0001\n",
      "Average loss so far: 0.1153\n"
     ]
    },
    {
     "name": "stderr",
     "output_type": "stream",
     "text": [
      "Epoch 1/10:  39%|███▊      | 127015/328056 [29:09<36:36, 91.54it/s, Avg Loss=0.1145]"
     ]
    },
    {
     "name": "stdout",
     "output_type": "stream",
     "text": [
      "\n",
      "Batch 127000\n",
      "Current batch loss: 0.0002\n",
      "Average loss so far: 0.1145\n"
     ]
    },
    {
     "name": "stderr",
     "output_type": "stream",
     "text": [
      "Epoch 1/10:  39%|███▉      | 128007/328056 [29:20<36:56, 90.27it/s, Avg Loss=0.1137]"
     ]
    },
    {
     "name": "stdout",
     "output_type": "stream",
     "text": [
      "\n",
      "Batch 128000\n",
      "Current batch loss: 0.0000\n",
      "Average loss so far: 0.1137\n"
     ]
    },
    {
     "name": "stderr",
     "output_type": "stream",
     "text": [
      "Epoch 1/10:  39%|███▉      | 129015/328056 [29:31<35:25, 93.64it/s, Avg Loss=0.1130]"
     ]
    },
    {
     "name": "stdout",
     "output_type": "stream",
     "text": [
      "\n",
      "Batch 129000\n",
      "Current batch loss: 0.0000\n",
      "Average loss so far: 0.1130\n"
     ]
    },
    {
     "name": "stderr",
     "output_type": "stream",
     "text": [
      "Epoch 1/10:  40%|███▉      | 130017/328056 [29:42<34:58, 94.35it/s, Avg Loss=0.1122]"
     ]
    },
    {
     "name": "stdout",
     "output_type": "stream",
     "text": [
      "\n",
      "Batch 130000\n",
      "Current batch loss: 0.0015\n",
      "Average loss so far: 0.1123\n"
     ]
    },
    {
     "name": "stderr",
     "output_type": "stream",
     "text": [
      "Epoch 1/10:  40%|███▉      | 131012/328056 [29:53<34:54, 94.08it/s, Avg Loss=0.1115]"
     ]
    },
    {
     "name": "stdout",
     "output_type": "stream",
     "text": [
      "\n",
      "Batch 131000\n",
      "Current batch loss: 0.0000\n",
      "Average loss so far: 0.1115\n"
     ]
    },
    {
     "name": "stderr",
     "output_type": "stream",
     "text": [
      "Epoch 1/10:  40%|████      | 132017/328056 [30:04<34:21, 95.10it/s, Avg Loss=0.1108]"
     ]
    },
    {
     "name": "stdout",
     "output_type": "stream",
     "text": [
      "\n",
      "Batch 132000\n",
      "Current batch loss: 0.0014\n",
      "Average loss so far: 0.1108\n"
     ]
    },
    {
     "name": "stderr",
     "output_type": "stream",
     "text": [
      "Epoch 1/10:  41%|████      | 133016/328056 [30:15<34:46, 93.46it/s, Avg Loss=0.1101]"
     ]
    },
    {
     "name": "stdout",
     "output_type": "stream",
     "text": [
      "\n",
      "Batch 133000\n",
      "Current batch loss: 0.0000\n",
      "Average loss so far: 0.1101\n"
     ]
    },
    {
     "name": "stderr",
     "output_type": "stream",
     "text": [
      "Epoch 1/10:  41%|████      | 134015/328056 [30:26<34:21, 94.14it/s, Avg Loss=0.1094]"
     ]
    },
    {
     "name": "stdout",
     "output_type": "stream",
     "text": [
      "\n",
      "Batch 134000\n",
      "Current batch loss: 0.0287\n",
      "Average loss so far: 0.1094\n"
     ]
    },
    {
     "name": "stderr",
     "output_type": "stream",
     "text": [
      "Epoch 1/10:  41%|████      | 135013/328056 [30:37<36:29, 88.18it/s, Avg Loss=0.1087]"
     ]
    },
    {
     "name": "stdout",
     "output_type": "stream",
     "text": [
      "\n",
      "Batch 135000\n",
      "Current batch loss: 0.0000\n",
      "Average loss so far: 0.1087\n"
     ]
    },
    {
     "name": "stderr",
     "output_type": "stream",
     "text": [
      "Epoch 1/10:  41%|████▏     | 136011/328056 [30:48<34:08, 93.75it/s, Avg Loss=0.1080]"
     ]
    },
    {
     "name": "stdout",
     "output_type": "stream",
     "text": [
      "\n",
      "Batch 136000\n",
      "Current batch loss: 0.0305\n",
      "Average loss so far: 0.1081\n"
     ]
    },
    {
     "name": "stderr",
     "output_type": "stream",
     "text": [
      "Epoch 1/10:  42%|████▏     | 137011/328056 [30:59<33:43, 94.41it/s, Avg Loss=0.1074]"
     ]
    },
    {
     "name": "stdout",
     "output_type": "stream",
     "text": [
      "\n",
      "Batch 137000\n",
      "Current batch loss: 0.0006\n",
      "Average loss so far: 0.1074\n"
     ]
    },
    {
     "name": "stderr",
     "output_type": "stream",
     "text": [
      "Epoch 1/10:  42%|████▏     | 138011/328056 [31:10<33:19, 95.06it/s, Avg Loss=0.1067]"
     ]
    },
    {
     "name": "stdout",
     "output_type": "stream",
     "text": [
      "\n",
      "Batch 138000\n",
      "Current batch loss: 0.0799\n",
      "Average loss so far: 0.1067\n"
     ]
    },
    {
     "name": "stderr",
     "output_type": "stream",
     "text": [
      "Epoch 1/10:  42%|████▏     | 139009/328056 [31:21<33:22, 94.40it/s, Avg Loss=0.1061]"
     ]
    },
    {
     "name": "stdout",
     "output_type": "stream",
     "text": [
      "\n",
      "Batch 139000\n",
      "Current batch loss: 0.0000\n",
      "Average loss so far: 0.1061\n"
     ]
    },
    {
     "name": "stderr",
     "output_type": "stream",
     "text": [
      "Epoch 1/10:  43%|████▎     | 140015/328056 [31:32<34:47, 90.07it/s, Avg Loss=0.1054]"
     ]
    },
    {
     "name": "stdout",
     "output_type": "stream",
     "text": [
      "\n",
      "Batch 140000\n",
      "Current batch loss: 0.0007\n",
      "Average loss so far: 0.1054\n"
     ]
    },
    {
     "name": "stderr",
     "output_type": "stream",
     "text": [
      "Epoch 1/10:  43%|████▎     | 141015/328056 [31:43<35:52, 86.88it/s, Avg Loss=0.1048]"
     ]
    },
    {
     "name": "stdout",
     "output_type": "stream",
     "text": [
      "\n",
      "Batch 141000\n",
      "Current batch loss: 0.0000\n",
      "Average loss so far: 0.1048\n"
     ]
    },
    {
     "name": "stderr",
     "output_type": "stream",
     "text": [
      "Epoch 1/10:  43%|████▎     | 142012/328056 [31:54<32:48, 94.53it/s, Avg Loss=0.1042]"
     ]
    },
    {
     "name": "stdout",
     "output_type": "stream",
     "text": [
      "\n",
      "Batch 142000\n",
      "Current batch loss: 0.0000\n",
      "Average loss so far: 0.1042\n"
     ]
    },
    {
     "name": "stderr",
     "output_type": "stream",
     "text": [
      "Epoch 1/10:  44%|████▎     | 143013/328056 [32:06<38:46, 79.54it/s, Avg Loss=0.1035]"
     ]
    },
    {
     "name": "stdout",
     "output_type": "stream",
     "text": [
      "\n",
      "Batch 143000\n",
      "Current batch loss: 0.0008\n",
      "Average loss so far: 0.1035\n"
     ]
    },
    {
     "name": "stderr",
     "output_type": "stream",
     "text": [
      "Epoch 1/10:  44%|████▍     | 144015/328056 [32:19<34:28, 88.97it/s, Avg Loss=0.1029]"
     ]
    },
    {
     "name": "stdout",
     "output_type": "stream",
     "text": [
      "\n",
      "Batch 144000\n",
      "Current batch loss: 0.0453\n",
      "Average loss so far: 0.1029\n"
     ]
    },
    {
     "name": "stderr",
     "output_type": "stream",
     "text": [
      "Epoch 1/10:  44%|████▍     | 145009/328056 [32:30<32:25, 94.07it/s, Avg Loss=0.1023]"
     ]
    },
    {
     "name": "stdout",
     "output_type": "stream",
     "text": [
      "\n",
      "Batch 145000\n",
      "Current batch loss: 0.0031\n",
      "Average loss so far: 0.1023\n"
     ]
    },
    {
     "name": "stderr",
     "output_type": "stream",
     "text": [
      "Epoch 1/10:  45%|████▍     | 146013/328056 [32:41<36:37, 82.83it/s, Avg Loss=0.1017] "
     ]
    },
    {
     "name": "stdout",
     "output_type": "stream",
     "text": [
      "\n",
      "Batch 146000\n",
      "Current batch loss: 0.2212\n",
      "Average loss so far: 0.1017\n"
     ]
    },
    {
     "name": "stderr",
     "output_type": "stream",
     "text": [
      "Epoch 1/10:  45%|████▍     | 147006/328056 [32:54<33:53, 89.02it/s, Avg Loss=0.1011]  "
     ]
    },
    {
     "name": "stdout",
     "output_type": "stream",
     "text": [
      "\n",
      "Batch 147000\n",
      "Current batch loss: 0.1230\n",
      "Average loss so far: 0.1011\n"
     ]
    },
    {
     "name": "stderr",
     "output_type": "stream",
     "text": [
      "Epoch 1/10:  45%|████▌     | 148012/328056 [33:06<33:37, 89.24it/s, Avg Loss=0.1005]"
     ]
    },
    {
     "name": "stdout",
     "output_type": "stream",
     "text": [
      "\n",
      "Batch 148000\n",
      "Current batch loss: 0.0041\n",
      "Average loss so far: 0.1005\n"
     ]
    },
    {
     "name": "stderr",
     "output_type": "stream",
     "text": [
      "Epoch 1/10:  45%|████▌     | 149011/328056 [33:17<33:07, 90.07it/s, Avg Loss=0.0999] "
     ]
    },
    {
     "name": "stdout",
     "output_type": "stream",
     "text": [
      "\n",
      "Batch 149000\n",
      "Current batch loss: 0.0001\n",
      "Average loss so far: 0.0999\n"
     ]
    },
    {
     "name": "stderr",
     "output_type": "stream",
     "text": [
      "Epoch 1/10:  46%|████▌     | 150008/328056 [33:29<43:34, 68.11it/s, Avg Loss=0.0993]"
     ]
    },
    {
     "name": "stdout",
     "output_type": "stream",
     "text": [
      "\n",
      "Batch 150000\n",
      "Current batch loss: 0.0055\n",
      "Average loss so far: 0.0993\n"
     ]
    },
    {
     "name": "stderr",
     "output_type": "stream",
     "text": [
      "Epoch 1/10:  46%|████▌     | 151015/328056 [33:40<31:05, 94.89it/s, Avg Loss=0.0988] "
     ]
    },
    {
     "name": "stdout",
     "output_type": "stream",
     "text": [
      "\n",
      "Batch 151000\n",
      "Current batch loss: 0.0021\n",
      "Average loss so far: 0.0988\n"
     ]
    },
    {
     "name": "stderr",
     "output_type": "stream",
     "text": [
      "Epoch 1/10:  46%|████▋     | 152018/328056 [33:51<29:27, 99.59it/s, Avg Loss=0.0982] "
     ]
    },
    {
     "name": "stdout",
     "output_type": "stream",
     "text": [
      "\n",
      "Batch 152000\n",
      "Current batch loss: 0.0000\n",
      "Average loss so far: 0.0982\n"
     ]
    },
    {
     "name": "stderr",
     "output_type": "stream",
     "text": [
      "Epoch 1/10:  47%|████▋     | 153016/328056 [34:02<29:52, 97.68it/s, Avg Loss=0.0976] "
     ]
    },
    {
     "name": "stdout",
     "output_type": "stream",
     "text": [
      "\n",
      "Batch 153000\n",
      "Current batch loss: 0.0000\n",
      "Average loss so far: 0.0976\n"
     ]
    },
    {
     "name": "stderr",
     "output_type": "stream",
     "text": [
      "Epoch 1/10:  47%|████▋     | 154009/328056 [34:13<30:14, 95.94it/s, Avg Loss=0.0971] "
     ]
    },
    {
     "name": "stdout",
     "output_type": "stream",
     "text": [
      "\n",
      "Batch 154000\n",
      "Current batch loss: 0.0400\n",
      "Average loss so far: 0.0971\n"
     ]
    },
    {
     "name": "stderr",
     "output_type": "stream",
     "text": [
      "Epoch 1/10:  47%|████▋     | 155017/328056 [34:24<34:08, 84.47it/s, Avg Loss=0.0965]"
     ]
    },
    {
     "name": "stdout",
     "output_type": "stream",
     "text": [
      "\n",
      "Batch 155000\n",
      "Current batch loss: 0.0000\n",
      "Average loss so far: 0.0966\n"
     ]
    },
    {
     "name": "stderr",
     "output_type": "stream",
     "text": [
      "Epoch 1/10:  48%|████▊     | 156012/328056 [34:38<33:56, 84.49it/s, Avg Loss=0.0960]  "
     ]
    },
    {
     "name": "stdout",
     "output_type": "stream",
     "text": [
      "\n",
      "Batch 156000\n",
      "Current batch loss: 0.0003\n",
      "Average loss so far: 0.0960\n"
     ]
    },
    {
     "name": "stderr",
     "output_type": "stream",
     "text": [
      "Epoch 1/10:  48%|████▊     | 157016/328056 [34:50<32:54, 86.61it/s, Avg Loss=0.0955]"
     ]
    },
    {
     "name": "stdout",
     "output_type": "stream",
     "text": [
      "\n",
      "Batch 157000\n",
      "Current batch loss: 0.0000\n",
      "Average loss so far: 0.0955\n"
     ]
    },
    {
     "name": "stderr",
     "output_type": "stream",
     "text": [
      "Epoch 1/10:  48%|████▊     | 158010/328056 [35:02<32:29, 87.21it/s, Avg Loss=0.0949]"
     ]
    },
    {
     "name": "stdout",
     "output_type": "stream",
     "text": [
      "\n",
      "Batch 158000\n",
      "Current batch loss: 0.0000\n",
      "Average loss so far: 0.0949\n"
     ]
    },
    {
     "name": "stderr",
     "output_type": "stream",
     "text": [
      "Epoch 1/10:  48%|████▊     | 159016/328056 [35:13<30:12, 93.29it/s, Avg Loss=0.0944] "
     ]
    },
    {
     "name": "stdout",
     "output_type": "stream",
     "text": [
      "\n",
      "Batch 159000\n",
      "Current batch loss: 0.0208\n",
      "Average loss so far: 0.0944\n"
     ]
    },
    {
     "name": "stderr",
     "output_type": "stream",
     "text": [
      "Epoch 1/10:  49%|████▉     | 160013/328056 [35:24<31:09, 89.91it/s, Avg Loss=0.0939] "
     ]
    },
    {
     "name": "stdout",
     "output_type": "stream",
     "text": [
      "\n",
      "Batch 160000\n",
      "Current batch loss: 0.0000\n",
      "Average loss so far: 0.0939\n"
     ]
    },
    {
     "name": "stderr",
     "output_type": "stream",
     "text": [
      "Epoch 1/10:  49%|████▉     | 161018/328056 [35:35<30:23, 91.59it/s, Avg Loss=0.0934] "
     ]
    },
    {
     "name": "stdout",
     "output_type": "stream",
     "text": [
      "\n",
      "Batch 161000\n",
      "Current batch loss: 0.0002\n",
      "Average loss so far: 0.0934\n"
     ]
    },
    {
     "name": "stderr",
     "output_type": "stream",
     "text": [
      "Epoch 1/10:  49%|████▉     | 162015/328056 [35:46<29:31, 93.75it/s, Avg Loss=0.0929] "
     ]
    },
    {
     "name": "stdout",
     "output_type": "stream",
     "text": [
      "\n",
      "Batch 162000\n",
      "Current batch loss: 0.0016\n",
      "Average loss so far: 0.0929\n"
     ]
    },
    {
     "name": "stderr",
     "output_type": "stream",
     "text": [
      "Epoch 1/10:  50%|████▉     | 163013/328056 [35:57<28:34, 96.27it/s, Avg Loss=0.0924] "
     ]
    },
    {
     "name": "stdout",
     "output_type": "stream",
     "text": [
      "\n",
      "Batch 163000\n",
      "Current batch loss: 0.1117\n",
      "Average loss so far: 0.0924\n"
     ]
    },
    {
     "name": "stderr",
     "output_type": "stream",
     "text": [
      "Epoch 1/10:  50%|████▉     | 164015/328056 [36:08<29:31, 92.61it/s, Avg Loss=0.0919] "
     ]
    },
    {
     "name": "stdout",
     "output_type": "stream",
     "text": [
      "\n",
      "Batch 164000\n",
      "Current batch loss: 0.0002\n",
      "Average loss so far: 0.0919\n"
     ]
    },
    {
     "name": "stderr",
     "output_type": "stream",
     "text": [
      "Epoch 1/10:  50%|█████     | 165009/328056 [36:18<28:07, 96.60it/s, Avg Loss=0.0914] "
     ]
    },
    {
     "name": "stdout",
     "output_type": "stream",
     "text": [
      "\n",
      "Batch 165000\n",
      "Current batch loss: 0.0001\n",
      "Average loss so far: 0.0914\n"
     ]
    },
    {
     "name": "stderr",
     "output_type": "stream",
     "text": [
      "Epoch 1/10:  51%|█████     | 166012/328056 [36:30<31:00, 87.11it/s, Avg Loss=0.0909]"
     ]
    },
    {
     "name": "stdout",
     "output_type": "stream",
     "text": [
      "\n",
      "Batch 166000\n",
      "Current batch loss: 0.0000\n",
      "Average loss so far: 0.0909\n"
     ]
    },
    {
     "name": "stderr",
     "output_type": "stream",
     "text": [
      "Epoch 1/10:  51%|█████     | 167016/328056 [36:41<30:02, 89.33it/s, Avg Loss=0.0904]"
     ]
    },
    {
     "name": "stdout",
     "output_type": "stream",
     "text": [
      "\n",
      "Batch 167000\n",
      "Current batch loss: 0.0000\n",
      "Average loss so far: 0.0904\n"
     ]
    },
    {
     "name": "stderr",
     "output_type": "stream",
     "text": [
      "Epoch 1/10:  51%|█████     | 168007/328056 [36:52<33:40, 79.23it/s, Avg Loss=0.0899] "
     ]
    },
    {
     "name": "stdout",
     "output_type": "stream",
     "text": [
      "\n",
      "Batch 168000\n",
      "Current batch loss: 0.0000\n",
      "Average loss so far: 0.0899\n"
     ]
    },
    {
     "name": "stderr",
     "output_type": "stream",
     "text": [
      "Epoch 1/10:  52%|█████▏    | 169014/328056 [37:03<28:30, 93.00it/s, Avg Loss=0.0895] "
     ]
    },
    {
     "name": "stdout",
     "output_type": "stream",
     "text": [
      "\n",
      "Batch 169000\n",
      "Current batch loss: 0.0028\n",
      "Average loss so far: 0.0895\n"
     ]
    },
    {
     "name": "stderr",
     "output_type": "stream",
     "text": [
      "Epoch 1/10:  52%|█████▏    | 170018/328056 [37:14<28:35, 92.12it/s, Avg Loss=0.0890] "
     ]
    },
    {
     "name": "stdout",
     "output_type": "stream",
     "text": [
      "\n",
      "Batch 170000\n",
      "Current batch loss: 0.0005\n",
      "Average loss so far: 0.0890\n"
     ]
    },
    {
     "name": "stderr",
     "output_type": "stream",
     "text": [
      "Epoch 1/10:  52%|█████▏    | 171017/328056 [37:25<29:28, 88.82it/s, Avg Loss=0.0885] "
     ]
    },
    {
     "name": "stdout",
     "output_type": "stream",
     "text": [
      "\n",
      "Batch 171000\n",
      "Current batch loss: 0.0310\n",
      "Average loss so far: 0.0885\n"
     ]
    },
    {
     "name": "stderr",
     "output_type": "stream",
     "text": [
      "Epoch 1/10:  52%|█████▏    | 172013/328056 [37:36<27:56, 93.10it/s, Avg Loss=0.0881] "
     ]
    },
    {
     "name": "stdout",
     "output_type": "stream",
     "text": [
      "\n",
      "Batch 172000\n",
      "Current batch loss: 0.0001\n",
      "Average loss so far: 0.0881\n"
     ]
    },
    {
     "name": "stderr",
     "output_type": "stream",
     "text": [
      "Epoch 1/10:  53%|█████▎    | 173009/328056 [37:47<28:57, 89.25it/s, Avg Loss=0.0876] "
     ]
    },
    {
     "name": "stdout",
     "output_type": "stream",
     "text": [
      "\n",
      "Batch 173000\n",
      "Current batch loss: 0.0001\n",
      "Average loss so far: 0.0876\n"
     ]
    },
    {
     "name": "stderr",
     "output_type": "stream",
     "text": [
      "Epoch 1/10:  53%|█████▎    | 174011/328056 [37:58<29:52, 85.92it/s, Avg Loss=0.0872]"
     ]
    },
    {
     "name": "stdout",
     "output_type": "stream",
     "text": [
      "\n",
      "Batch 174000\n",
      "Current batch loss: 0.0000\n",
      "Average loss so far: 0.0872\n"
     ]
    },
    {
     "name": "stderr",
     "output_type": "stream",
     "text": [
      "Epoch 1/10:  53%|█████▎    | 175013/328056 [38:09<27:35, 92.47it/s, Avg Loss=0.0867] "
     ]
    },
    {
     "name": "stdout",
     "output_type": "stream",
     "text": [
      "\n",
      "Batch 175000\n",
      "Current batch loss: 0.0000\n",
      "Average loss so far: 0.0867\n"
     ]
    },
    {
     "name": "stderr",
     "output_type": "stream",
     "text": [
      "Epoch 1/10:  54%|█████▎    | 176007/328056 [38:20<27:19, 92.75it/s, Avg Loss=0.0863]"
     ]
    },
    {
     "name": "stdout",
     "output_type": "stream",
     "text": [
      "\n",
      "Batch 176000\n",
      "Current batch loss: 0.0000\n",
      "Average loss so far: 0.0863\n"
     ]
    },
    {
     "name": "stderr",
     "output_type": "stream",
     "text": [
      "Epoch 1/10:  54%|█████▍    | 177012/328056 [38:31<27:52, 90.32it/s, Avg Loss=0.0859] "
     ]
    },
    {
     "name": "stdout",
     "output_type": "stream",
     "text": [
      "\n",
      "Batch 177000\n",
      "Current batch loss: 0.0000\n",
      "Average loss so far: 0.0859\n"
     ]
    },
    {
     "name": "stderr",
     "output_type": "stream",
     "text": [
      "Epoch 1/10:  54%|█████▍    | 178013/328056 [38:42<26:52, 93.04it/s, Avg Loss=0.0854] "
     ]
    },
    {
     "name": "stdout",
     "output_type": "stream",
     "text": [
      "\n",
      "Batch 178000\n",
      "Current batch loss: 0.0002\n",
      "Average loss so far: 0.0854\n"
     ]
    },
    {
     "name": "stderr",
     "output_type": "stream",
     "text": [
      "Epoch 1/10:  55%|█████▍    | 179011/328056 [38:53<26:35, 93.42it/s, Avg Loss=0.0850] "
     ]
    },
    {
     "name": "stdout",
     "output_type": "stream",
     "text": [
      "\n",
      "Batch 179000\n",
      "Current batch loss: 0.0001\n",
      "Average loss so far: 0.0850\n"
     ]
    },
    {
     "name": "stderr",
     "output_type": "stream",
     "text": [
      "Epoch 1/10:  55%|█████▍    | 180014/328056 [39:04<29:07, 84.74it/s, Avg Loss=0.0846]"
     ]
    },
    {
     "name": "stdout",
     "output_type": "stream",
     "text": [
      "\n",
      "Batch 180000\n",
      "Current batch loss: 0.0001\n",
      "Average loss so far: 0.0846\n"
     ]
    },
    {
     "name": "stderr",
     "output_type": "stream",
     "text": [
      "Epoch 1/10:  55%|█████▌    | 181009/328056 [39:15<26:17, 93.20it/s, Avg Loss=0.0842]"
     ]
    },
    {
     "name": "stdout",
     "output_type": "stream",
     "text": [
      "\n",
      "Batch 181000\n",
      "Current batch loss: 0.0002\n",
      "Average loss so far: 0.0842\n"
     ]
    },
    {
     "name": "stderr",
     "output_type": "stream",
     "text": [
      "Epoch 1/10:  55%|█████▌    | 182004/328056 [39:26<25:53, 94.04it/s, Avg Loss=0.0838]"
     ]
    },
    {
     "name": "stdout",
     "output_type": "stream",
     "text": [
      "\n",
      "Batch 182000\n",
      "Current batch loss: 0.0000\n",
      "Average loss so far: 0.0838\n"
     ]
    },
    {
     "name": "stderr",
     "output_type": "stream",
     "text": [
      "Epoch 1/10:  56%|█████▌    | 183010/328056 [39:37<26:14, 92.11it/s, Avg Loss=0.0834]"
     ]
    },
    {
     "name": "stdout",
     "output_type": "stream",
     "text": [
      "\n",
      "Batch 183000\n",
      "Current batch loss: 0.0000\n",
      "Average loss so far: 0.0834\n"
     ]
    },
    {
     "name": "stderr",
     "output_type": "stream",
     "text": [
      "Epoch 1/10:  56%|█████▌    | 184009/328056 [39:48<25:49, 92.95it/s, Avg Loss=0.0829]"
     ]
    },
    {
     "name": "stdout",
     "output_type": "stream",
     "text": [
      "\n",
      "Batch 184000\n",
      "Current batch loss: 0.0000\n",
      "Average loss so far: 0.0830\n"
     ]
    },
    {
     "name": "stderr",
     "output_type": "stream",
     "text": [
      "Epoch 1/10:  56%|█████▋    | 185004/328056 [39:58<25:28, 93.56it/s, Avg Loss=0.0825] "
     ]
    },
    {
     "name": "stdout",
     "output_type": "stream",
     "text": [
      "\n",
      "Batch 185000\n",
      "Current batch loss: 0.0069\n",
      "Average loss so far: 0.0826\n"
     ]
    },
    {
     "name": "stderr",
     "output_type": "stream",
     "text": [
      "Epoch 1/10:  57%|█████▋    | 186012/328056 [40:09<25:10, 94.02it/s, Avg Loss=0.0821]"
     ]
    },
    {
     "name": "stdout",
     "output_type": "stream",
     "text": [
      "\n",
      "Batch 186000\n",
      "Current batch loss: 0.0000\n",
      "Average loss so far: 0.0822\n"
     ]
    },
    {
     "name": "stderr",
     "output_type": "stream",
     "text": [
      "Epoch 1/10:  57%|█████▋    | 187013/328056 [40:21<26:21, 89.21it/s, Avg Loss=0.0818] "
     ]
    },
    {
     "name": "stdout",
     "output_type": "stream",
     "text": [
      "\n",
      "Batch 187000\n",
      "Current batch loss: 0.0000\n",
      "Average loss so far: 0.0818\n"
     ]
    },
    {
     "name": "stderr",
     "output_type": "stream",
     "text": [
      "Epoch 1/10:  57%|█████▋    | 188011/328056 [40:32<24:57, 93.49it/s, Avg Loss=0.0814]"
     ]
    },
    {
     "name": "stdout",
     "output_type": "stream",
     "text": [
      "\n",
      "Batch 188000\n",
      "Current batch loss: 0.0000\n",
      "Average loss so far: 0.0814\n"
     ]
    },
    {
     "name": "stderr",
     "output_type": "stream",
     "text": [
      "Epoch 1/10:  58%|█████▊    | 189008/328056 [40:43<25:25, 91.17it/s, Avg Loss=0.0810]"
     ]
    },
    {
     "name": "stdout",
     "output_type": "stream",
     "text": [
      "\n",
      "Batch 189000\n",
      "Current batch loss: 0.0010\n",
      "Average loss so far: 0.0810\n"
     ]
    },
    {
     "name": "stderr",
     "output_type": "stream",
     "text": [
      "Epoch 1/10:  58%|█████▊    | 190017/328056 [40:54<25:01, 91.92it/s, Avg Loss=0.0806]"
     ]
    },
    {
     "name": "stdout",
     "output_type": "stream",
     "text": [
      "\n",
      "Batch 190000\n",
      "Current batch loss: 0.0029\n",
      "Average loss so far: 0.0806\n"
     ]
    },
    {
     "name": "stderr",
     "output_type": "stream",
     "text": [
      "Epoch 1/10:  58%|█████▊    | 191016/328056 [41:05<24:53, 91.77it/s, Avg Loss=0.0802]"
     ]
    },
    {
     "name": "stdout",
     "output_type": "stream",
     "text": [
      "\n",
      "Batch 191000\n",
      "Current batch loss: 0.0000\n",
      "Average loss so far: 0.0802\n"
     ]
    },
    {
     "name": "stderr",
     "output_type": "stream",
     "text": [
      "Epoch 1/10:  59%|█████▊    | 192011/328056 [41:16<25:41, 88.26it/s, Avg Loss=0.0798]"
     ]
    },
    {
     "name": "stdout",
     "output_type": "stream",
     "text": [
      "\n",
      "Batch 192000\n",
      "Current batch loss: 0.0000\n",
      "Average loss so far: 0.0798\n"
     ]
    },
    {
     "name": "stderr",
     "output_type": "stream",
     "text": [
      "Epoch 1/10:  59%|█████▉    | 193010/328056 [41:27<25:35, 87.96it/s, Avg Loss=0.0794]"
     ]
    },
    {
     "name": "stdout",
     "output_type": "stream",
     "text": [
      "\n",
      "Batch 193000\n",
      "Current batch loss: 0.0001\n",
      "Average loss so far: 0.0795\n"
     ]
    },
    {
     "name": "stderr",
     "output_type": "stream",
     "text": [
      "Epoch 1/10:  59%|█████▉    | 194009/328056 [41:38<24:11, 92.34it/s, Avg Loss=0.0791] "
     ]
    },
    {
     "name": "stdout",
     "output_type": "stream",
     "text": [
      "\n",
      "Batch 194000\n",
      "Current batch loss: 0.0001\n",
      "Average loss so far: 0.0791\n"
     ]
    },
    {
     "name": "stderr",
     "output_type": "stream",
     "text": [
      "Epoch 1/10:  59%|█████▉    | 195010/328056 [41:50<24:46, 89.48it/s, Avg Loss=0.0787] "
     ]
    },
    {
     "name": "stdout",
     "output_type": "stream",
     "text": [
      "\n",
      "Batch 195000\n",
      "Current batch loss: 0.0002\n",
      "Average loss so far: 0.0787\n"
     ]
    },
    {
     "name": "stderr",
     "output_type": "stream",
     "text": [
      "Epoch 1/10:  60%|█████▉    | 196016/328056 [42:01<25:30, 86.25it/s, Avg Loss=0.0783]"
     ]
    },
    {
     "name": "stdout",
     "output_type": "stream",
     "text": [
      "\n",
      "Batch 196000\n",
      "Current batch loss: 0.0000\n",
      "Average loss so far: 0.0783\n"
     ]
    },
    {
     "name": "stderr",
     "output_type": "stream",
     "text": [
      "Epoch 1/10:  60%|██████    | 197018/328056 [42:12<23:20, 93.55it/s, Avg Loss=0.0780]"
     ]
    },
    {
     "name": "stdout",
     "output_type": "stream",
     "text": [
      "\n",
      "Batch 197000\n",
      "Current batch loss: 0.0000\n",
      "Average loss so far: 0.0780\n"
     ]
    },
    {
     "name": "stderr",
     "output_type": "stream",
     "text": [
      "Epoch 1/10:  60%|██████    | 198010/328056 [42:23<23:15, 93.18it/s, Avg Loss=0.0776]"
     ]
    },
    {
     "name": "stdout",
     "output_type": "stream",
     "text": [
      "\n",
      "Batch 198000\n",
      "Current batch loss: 0.0000\n",
      "Average loss so far: 0.0776\n"
     ]
    },
    {
     "name": "stderr",
     "output_type": "stream",
     "text": [
      "Epoch 1/10:  61%|██████    | 199013/328056 [42:35<23:29, 91.58it/s, Avg Loss=0.0773]"
     ]
    },
    {
     "name": "stdout",
     "output_type": "stream",
     "text": [
      "\n",
      "Batch 199000\n",
      "Current batch loss: 0.0000\n",
      "Average loss so far: 0.0773\n"
     ]
    },
    {
     "name": "stderr",
     "output_type": "stream",
     "text": [
      "Epoch 1/10:  61%|██████    | 200015/328056 [42:46<23:19, 91.47it/s, Avg Loss=0.0769]"
     ]
    },
    {
     "name": "stdout",
     "output_type": "stream",
     "text": [
      "\n",
      "Batch 200000\n",
      "Current batch loss: 0.0000\n",
      "Average loss so far: 0.0769\n"
     ]
    },
    {
     "name": "stderr",
     "output_type": "stream",
     "text": [
      "Epoch 1/10:  61%|██████▏   | 201017/328056 [42:57<22:19, 94.81it/s, Avg Loss=0.0766] "
     ]
    },
    {
     "name": "stdout",
     "output_type": "stream",
     "text": [
      "\n",
      "Batch 201000\n",
      "Current batch loss: 0.0127\n",
      "Average loss so far: 0.0766\n"
     ]
    },
    {
     "name": "stderr",
     "output_type": "stream",
     "text": [
      "Epoch 1/10:  62%|██████▏   | 202010/328056 [43:08<22:35, 93.01it/s, Avg Loss=0.0762]"
     ]
    },
    {
     "name": "stdout",
     "output_type": "stream",
     "text": [
      "\n",
      "Batch 202000\n",
      "Current batch loss: 0.0778\n",
      "Average loss so far: 0.0762\n"
     ]
    },
    {
     "name": "stderr",
     "output_type": "stream",
     "text": [
      "Epoch 1/10:  62%|██████▏   | 203012/328056 [43:19<23:21, 89.21it/s, Avg Loss=0.0759]"
     ]
    },
    {
     "name": "stdout",
     "output_type": "stream",
     "text": [
      "\n",
      "Batch 203000\n",
      "Current batch loss: 0.0000\n",
      "Average loss so far: 0.0759\n"
     ]
    },
    {
     "name": "stderr",
     "output_type": "stream",
     "text": [
      "Epoch 1/10:  62%|██████▏   | 204011/328056 [43:32<31:43, 65.18it/s, Avg Loss=0.0755]"
     ]
    },
    {
     "name": "stdout",
     "output_type": "stream",
     "text": [
      "\n",
      "Batch 204000\n",
      "Current batch loss: 0.0001\n",
      "Average loss so far: 0.0756\n"
     ]
    },
    {
     "name": "stderr",
     "output_type": "stream",
     "text": [
      "Epoch 1/10:  62%|██████▏   | 205018/328056 [43:43<22:29, 91.19it/s, Avg Loss=0.0752]"
     ]
    },
    {
     "name": "stdout",
     "output_type": "stream",
     "text": [
      "\n",
      "Batch 205000\n",
      "Current batch loss: 0.0002\n",
      "Average loss so far: 0.0752\n"
     ]
    },
    {
     "name": "stderr",
     "output_type": "stream",
     "text": [
      "Epoch 1/10:  63%|██████▎   | 206016/328056 [43:54<21:45, 93.47it/s, Avg Loss=0.0749]"
     ]
    },
    {
     "name": "stdout",
     "output_type": "stream",
     "text": [
      "\n",
      "Batch 206000\n",
      "Current batch loss: 0.0025\n",
      "Average loss so far: 0.0749\n"
     ]
    },
    {
     "name": "stderr",
     "output_type": "stream",
     "text": [
      "Epoch 1/10:  63%|██████▎   | 207017/328056 [44:06<22:17, 90.47it/s, Avg Loss=0.0745]"
     ]
    },
    {
     "name": "stdout",
     "output_type": "stream",
     "text": [
      "\n",
      "Batch 207000\n",
      "Current batch loss: 0.0000\n",
      "Average loss so far: 0.0745\n"
     ]
    },
    {
     "name": "stderr",
     "output_type": "stream",
     "text": [
      "Epoch 1/10:  63%|██████▎   | 208010/328056 [44:17<21:53, 91.41it/s, Avg Loss=0.0742]"
     ]
    },
    {
     "name": "stdout",
     "output_type": "stream",
     "text": [
      "\n",
      "Batch 208000\n",
      "Current batch loss: 0.0000\n",
      "Average loss so far: 0.0742\n"
     ]
    },
    {
     "name": "stderr",
     "output_type": "stream",
     "text": [
      "Epoch 1/10:  64%|██████▎   | 209013/328056 [44:30<24:59, 79.37it/s, Avg Loss=0.0739]"
     ]
    },
    {
     "name": "stdout",
     "output_type": "stream",
     "text": [
      "\n",
      "Batch 209000\n",
      "Current batch loss: 0.0001\n",
      "Average loss so far: 0.0739\n"
     ]
    },
    {
     "name": "stderr",
     "output_type": "stream",
     "text": [
      "Epoch 1/10:  64%|██████▍   | 210014/328056 [44:41<22:01, 89.35it/s, Avg Loss=0.0736]"
     ]
    },
    {
     "name": "stdout",
     "output_type": "stream",
     "text": [
      "\n",
      "Batch 210000\n",
      "Current batch loss: 0.0570\n",
      "Average loss so far: 0.0736\n"
     ]
    },
    {
     "name": "stderr",
     "output_type": "stream",
     "text": [
      "Epoch 1/10:  64%|██████▍   | 211017/328056 [44:53<24:59, 78.05it/s, Avg Loss=0.0732]"
     ]
    },
    {
     "name": "stdout",
     "output_type": "stream",
     "text": [
      "\n",
      "Batch 211000\n",
      "Current batch loss: 0.0000\n",
      "Average loss so far: 0.0733\n"
     ]
    },
    {
     "name": "stderr",
     "output_type": "stream",
     "text": [
      "Epoch 1/10:  65%|██████▍   | 212018/328056 [45:04<20:44, 93.21it/s, Avg Loss=0.0729]"
     ]
    },
    {
     "name": "stdout",
     "output_type": "stream",
     "text": [
      "\n",
      "Batch 212000\n",
      "Current batch loss: 0.0000\n",
      "Average loss so far: 0.0729\n"
     ]
    },
    {
     "name": "stderr",
     "output_type": "stream",
     "text": [
      "Epoch 1/10:  65%|██████▍   | 213018/328056 [45:15<20:32, 93.34it/s, Avg Loss=0.0726]"
     ]
    },
    {
     "name": "stdout",
     "output_type": "stream",
     "text": [
      "\n",
      "Batch 213000\n",
      "Current batch loss: 0.0189\n",
      "Average loss so far: 0.0726\n"
     ]
    },
    {
     "name": "stderr",
     "output_type": "stream",
     "text": [
      "Epoch 1/10:  65%|██████▌   | 214009/328056 [45:27<20:41, 91.84it/s, Avg Loss=0.0723] "
     ]
    },
    {
     "name": "stdout",
     "output_type": "stream",
     "text": [
      "\n",
      "Batch 214000\n",
      "Current batch loss: 0.0000\n",
      "Average loss so far: 0.0723\n"
     ]
    },
    {
     "name": "stderr",
     "output_type": "stream",
     "text": [
      "Epoch 1/10:  66%|██████▌   | 215009/328056 [45:38<20:46, 90.70it/s, Avg Loss=0.0720]"
     ]
    },
    {
     "name": "stdout",
     "output_type": "stream",
     "text": [
      "\n",
      "Batch 215000\n",
      "Current batch loss: 0.0000\n",
      "Average loss so far: 0.0720\n"
     ]
    },
    {
     "name": "stderr",
     "output_type": "stream",
     "text": [
      "Epoch 1/10:  66%|██████▌   | 216014/328056 [45:49<20:24, 91.46it/s, Avg Loss=0.0717]"
     ]
    },
    {
     "name": "stdout",
     "output_type": "stream",
     "text": [
      "\n",
      "Batch 216000\n",
      "Current batch loss: 0.0005\n",
      "Average loss so far: 0.0717\n"
     ]
    },
    {
     "name": "stderr",
     "output_type": "stream",
     "text": [
      "Epoch 1/10:  66%|██████▌   | 217018/328056 [46:00<20:10, 91.70it/s, Avg Loss=0.0714]"
     ]
    },
    {
     "name": "stdout",
     "output_type": "stream",
     "text": [
      "\n",
      "Batch 217000\n",
      "Current batch loss: 0.0000\n",
      "Average loss so far: 0.0714\n"
     ]
    },
    {
     "name": "stderr",
     "output_type": "stream",
     "text": [
      "Epoch 1/10:  66%|██████▋   | 218016/328056 [46:11<25:04, 73.16it/s, Avg Loss=0.0711] "
     ]
    },
    {
     "name": "stdout",
     "output_type": "stream",
     "text": [
      "\n",
      "Batch 218000\n",
      "Current batch loss: 0.2088\n",
      "Average loss so far: 0.0711\n"
     ]
    },
    {
     "name": "stderr",
     "output_type": "stream",
     "text": [
      "Epoch 1/10:  67%|██████▋   | 219010/328056 [46:22<19:20, 93.94it/s, Avg Loss=0.0708]"
     ]
    },
    {
     "name": "stdout",
     "output_type": "stream",
     "text": [
      "\n",
      "Batch 219000\n",
      "Current batch loss: 0.0000\n",
      "Average loss so far: 0.0708\n"
     ]
    },
    {
     "name": "stderr",
     "output_type": "stream",
     "text": [
      "Epoch 1/10:  67%|██████▋   | 220010/328056 [46:33<20:06, 89.55it/s, Avg Loss=0.0705]"
     ]
    },
    {
     "name": "stdout",
     "output_type": "stream",
     "text": [
      "\n",
      "Batch 220000\n",
      "Current batch loss: 0.0000\n",
      "Average loss so far: 0.0705\n"
     ]
    },
    {
     "name": "stderr",
     "output_type": "stream",
     "text": [
      "Epoch 1/10:  67%|██████▋   | 221014/328056 [46:45<19:17, 92.44it/s, Avg Loss=0.0702]"
     ]
    },
    {
     "name": "stdout",
     "output_type": "stream",
     "text": [
      "\n",
      "Batch 221000\n",
      "Current batch loss: 0.0000\n",
      "Average loss so far: 0.0702\n"
     ]
    },
    {
     "name": "stderr",
     "output_type": "stream",
     "text": [
      "Epoch 1/10:  68%|██████▊   | 222011/328056 [46:56<18:48, 93.95it/s, Avg Loss=0.0699]"
     ]
    },
    {
     "name": "stdout",
     "output_type": "stream",
     "text": [
      "\n",
      "Batch 222000\n",
      "Current batch loss: 0.0004\n",
      "Average loss so far: 0.0699\n"
     ]
    },
    {
     "name": "stderr",
     "output_type": "stream",
     "text": [
      "Epoch 1/10:  68%|██████▊   | 223018/328056 [47:07<18:50, 92.91it/s, Avg Loss=0.0696] "
     ]
    },
    {
     "name": "stdout",
     "output_type": "stream",
     "text": [
      "\n",
      "Batch 223000\n",
      "Current batch loss: 0.0000\n",
      "Average loss so far: 0.0696\n"
     ]
    },
    {
     "name": "stderr",
     "output_type": "stream",
     "text": [
      "Epoch 1/10:  68%|██████▊   | 224010/328056 [47:18<20:07, 86.14it/s, Avg Loss=0.0693]"
     ]
    },
    {
     "name": "stdout",
     "output_type": "stream",
     "text": [
      "\n",
      "Batch 224000\n",
      "Current batch loss: 0.0005\n",
      "Average loss so far: 0.0693\n"
     ]
    },
    {
     "name": "stderr",
     "output_type": "stream",
     "text": [
      "Epoch 1/10:  69%|██████▊   | 225014/328056 [47:30<19:48, 86.71it/s, Avg Loss=0.0690]"
     ]
    },
    {
     "name": "stdout",
     "output_type": "stream",
     "text": [
      "\n",
      "Batch 225000\n",
      "Current batch loss: 0.0001\n",
      "Average loss so far: 0.0690\n"
     ]
    },
    {
     "name": "stderr",
     "output_type": "stream",
     "text": [
      "Epoch 1/10:  69%|██████▉   | 226009/328056 [47:44<22:36, 75.23it/s, Avg Loss=0.0688]"
     ]
    },
    {
     "name": "stdout",
     "output_type": "stream",
     "text": [
      "\n",
      "Batch 226000\n",
      "Current batch loss: 0.0000\n",
      "Average loss so far: 0.0688\n"
     ]
    },
    {
     "name": "stderr",
     "output_type": "stream",
     "text": [
      "Epoch 1/10:  69%|██████▉   | 227011/328056 [47:57<19:32, 86.16it/s, Avg Loss=0.0685]"
     ]
    },
    {
     "name": "stdout",
     "output_type": "stream",
     "text": [
      "\n",
      "Batch 227000\n",
      "Current batch loss: 0.0000\n",
      "Average loss so far: 0.0685\n"
     ]
    },
    {
     "name": "stderr",
     "output_type": "stream",
     "text": [
      "Epoch 1/10:  70%|██████▉   | 228014/328056 [48:08<19:05, 87.30it/s, Avg Loss=0.0682]"
     ]
    },
    {
     "name": "stdout",
     "output_type": "stream",
     "text": [
      "\n",
      "Batch 228000\n",
      "Current batch loss: 0.0008\n",
      "Average loss so far: 0.0682\n"
     ]
    },
    {
     "name": "stderr",
     "output_type": "stream",
     "text": [
      "Epoch 1/10:  70%|██████▉   | 229011/328056 [48:21<18:48, 87.79it/s, Avg Loss=0.0679]"
     ]
    },
    {
     "name": "stdout",
     "output_type": "stream",
     "text": [
      "\n",
      "Batch 229000\n",
      "Current batch loss: 0.0000\n",
      "Average loss so far: 0.0679\n"
     ]
    },
    {
     "name": "stderr",
     "output_type": "stream",
     "text": [
      "Epoch 1/10:  70%|███████   | 230011/328056 [48:32<18:18, 89.24it/s, Avg Loss=0.0676]"
     ]
    },
    {
     "name": "stdout",
     "output_type": "stream",
     "text": [
      "\n",
      "Batch 230000\n",
      "Current batch loss: 0.0039\n",
      "Average loss so far: 0.0677\n"
     ]
    },
    {
     "name": "stderr",
     "output_type": "stream",
     "text": [
      "Epoch 1/10:  70%|███████   | 231011/328056 [48:44<17:30, 92.41it/s, Avg Loss=0.0674] "
     ]
    },
    {
     "name": "stdout",
     "output_type": "stream",
     "text": [
      "\n",
      "Batch 231000\n",
      "Current batch loss: 0.0000\n",
      "Average loss so far: 0.0674\n"
     ]
    },
    {
     "name": "stderr",
     "output_type": "stream",
     "text": [
      "Epoch 1/10:  71%|███████   | 232010/328056 [48:55<18:12, 87.93it/s, Avg Loss=0.0671] "
     ]
    },
    {
     "name": "stdout",
     "output_type": "stream",
     "text": [
      "\n",
      "Batch 232000\n",
      "Current batch loss: 0.0159\n",
      "Average loss so far: 0.0671\n"
     ]
    },
    {
     "name": "stderr",
     "output_type": "stream",
     "text": [
      "Epoch 1/10:  71%|███████   | 233011/328056 [49:07<17:27, 90.72it/s, Avg Loss=0.0668]"
     ]
    },
    {
     "name": "stdout",
     "output_type": "stream",
     "text": [
      "\n",
      "Batch 233000\n",
      "Current batch loss: 0.0000\n",
      "Average loss so far: 0.0668\n"
     ]
    },
    {
     "name": "stderr",
     "output_type": "stream",
     "text": [
      "Epoch 1/10:  71%|███████▏  | 234008/328056 [49:18<18:54, 82.91it/s, Avg Loss=0.0666] "
     ]
    },
    {
     "name": "stdout",
     "output_type": "stream",
     "text": [
      "\n",
      "Batch 234000\n",
      "Current batch loss: 0.0000\n",
      "Average loss so far: 0.0666\n"
     ]
    },
    {
     "name": "stderr",
     "output_type": "stream",
     "text": [
      "Epoch 1/10:  72%|███████▏  | 235018/328056 [49:29<17:26, 88.93it/s, Avg Loss=0.0663] "
     ]
    },
    {
     "name": "stdout",
     "output_type": "stream",
     "text": [
      "\n",
      "Batch 235000\n",
      "Current batch loss: 0.0001\n",
      "Average loss so far: 0.0663\n"
     ]
    },
    {
     "name": "stderr",
     "output_type": "stream",
     "text": [
      "Epoch 1/10:  72%|███████▏  | 236011/328056 [49:40<14:19, 107.12it/s, Avg Loss=0.0660]"
     ]
    },
    {
     "name": "stdout",
     "output_type": "stream",
     "text": [
      "\n",
      "Batch 236000\n",
      "Current batch loss: 0.0000\n",
      "Average loss so far: 0.0660\n"
     ]
    },
    {
     "name": "stderr",
     "output_type": "stream",
     "text": [
      "Epoch 1/10:  72%|███████▏  | 237017/328056 [49:51<16:33, 91.64it/s, Avg Loss=0.0658] "
     ]
    },
    {
     "name": "stdout",
     "output_type": "stream",
     "text": [
      "\n",
      "Batch 237000\n",
      "Current batch loss: 0.0000\n",
      "Average loss so far: 0.0658\n"
     ]
    },
    {
     "name": "stderr",
     "output_type": "stream",
     "text": [
      "Epoch 1/10:  73%|███████▎  | 238018/328056 [50:02<17:01, 88.18it/s, Avg Loss=0.0655] "
     ]
    },
    {
     "name": "stdout",
     "output_type": "stream",
     "text": [
      "\n",
      "Batch 238000\n",
      "Current batch loss: 0.0000\n",
      "Average loss so far: 0.0655\n"
     ]
    },
    {
     "name": "stderr",
     "output_type": "stream",
     "text": [
      "Epoch 1/10:  73%|███████▎  | 239015/328056 [50:13<15:42, 94.49it/s, Avg Loss=0.0653]"
     ]
    },
    {
     "name": "stdout",
     "output_type": "stream",
     "text": [
      "\n",
      "Batch 239000\n",
      "Current batch loss: 0.0000\n",
      "Average loss so far: 0.0653\n"
     ]
    },
    {
     "name": "stderr",
     "output_type": "stream",
     "text": [
      "Epoch 1/10:  73%|███████▎  | 240011/328056 [50:24<15:20, 95.70it/s, Avg Loss=0.0650] "
     ]
    },
    {
     "name": "stdout",
     "output_type": "stream",
     "text": [
      "\n",
      "Batch 240000\n",
      "Current batch loss: 0.0000\n",
      "Average loss so far: 0.0650\n"
     ]
    },
    {
     "name": "stderr",
     "output_type": "stream",
     "text": [
      "Epoch 1/10:  73%|███████▎  | 241016/328056 [50:35<16:18, 88.95it/s, Avg Loss=0.0648] "
     ]
    },
    {
     "name": "stdout",
     "output_type": "stream",
     "text": [
      "\n",
      "Batch 241000\n",
      "Current batch loss: 0.0000\n",
      "Average loss so far: 0.0648\n"
     ]
    },
    {
     "name": "stderr",
     "output_type": "stream",
     "text": [
      "Epoch 1/10:  74%|███████▍  | 242009/328056 [50:47<15:47, 90.85it/s, Avg Loss=0.0645]"
     ]
    },
    {
     "name": "stdout",
     "output_type": "stream",
     "text": [
      "\n",
      "Batch 242000\n",
      "Current batch loss: 0.0000\n",
      "Average loss so far: 0.0645\n"
     ]
    },
    {
     "name": "stderr",
     "output_type": "stream",
     "text": [
      "Epoch 1/10:  74%|███████▍  | 243011/328056 [50:59<17:21, 81.66it/s, Avg Loss=0.0643]"
     ]
    },
    {
     "name": "stdout",
     "output_type": "stream",
     "text": [
      "\n",
      "Batch 243000\n",
      "Current batch loss: 0.0000\n",
      "Average loss so far: 0.0643\n"
     ]
    },
    {
     "name": "stderr",
     "output_type": "stream",
     "text": [
      "Epoch 1/10:  74%|███████▍  | 244013/328056 [51:12<16:30, 84.84it/s, Avg Loss=0.0640]"
     ]
    },
    {
     "name": "stdout",
     "output_type": "stream",
     "text": [
      "\n",
      "Batch 244000\n",
      "Current batch loss: 0.1145\n",
      "Average loss so far: 0.0640\n"
     ]
    },
    {
     "name": "stderr",
     "output_type": "stream",
     "text": [
      "Epoch 1/10:  75%|███████▍  | 245018/328056 [51:24<15:55, 86.92it/s, Avg Loss=0.0638] "
     ]
    },
    {
     "name": "stdout",
     "output_type": "stream",
     "text": [
      "\n",
      "Batch 245000\n",
      "Current batch loss: 0.0000\n",
      "Average loss so far: 0.0638\n"
     ]
    },
    {
     "name": "stderr",
     "output_type": "stream",
     "text": [
      "Epoch 1/10:  75%|███████▍  | 246010/328056 [51:35<15:01, 90.98it/s, Avg Loss=0.0635]"
     ]
    },
    {
     "name": "stdout",
     "output_type": "stream",
     "text": [
      "\n",
      "Batch 246000\n",
      "Current batch loss: 0.0000\n",
      "Average loss so far: 0.0635\n"
     ]
    },
    {
     "name": "stderr",
     "output_type": "stream",
     "text": [
      "Epoch 1/10:  75%|███████▌  | 247014/328056 [51:47<15:22, 87.90it/s, Avg Loss=0.0633]"
     ]
    },
    {
     "name": "stdout",
     "output_type": "stream",
     "text": [
      "\n",
      "Batch 247000\n",
      "Current batch loss: 0.0000\n",
      "Average loss so far: 0.0633\n"
     ]
    },
    {
     "name": "stderr",
     "output_type": "stream",
     "text": [
      "Epoch 1/10:  76%|███████▌  | 248011/328056 [51:58<15:28, 86.20it/s, Avg Loss=0.0631]"
     ]
    },
    {
     "name": "stdout",
     "output_type": "stream",
     "text": [
      "\n",
      "Batch 248000\n",
      "Current batch loss: 0.0000\n",
      "Average loss so far: 0.0631\n"
     ]
    },
    {
     "name": "stderr",
     "output_type": "stream",
     "text": [
      "Epoch 1/10:  76%|███████▌  | 249017/328056 [52:10<16:03, 82.04it/s, Avg Loss=0.0628]"
     ]
    },
    {
     "name": "stdout",
     "output_type": "stream",
     "text": [
      "\n",
      "Batch 249000\n",
      "Current batch loss: 0.0008\n",
      "Average loss so far: 0.0628\n"
     ]
    },
    {
     "name": "stderr",
     "output_type": "stream",
     "text": [
      "Epoch 1/10:  76%|███████▌  | 250015/328056 [52:23<15:05, 86.14it/s, Avg Loss=0.0626]"
     ]
    },
    {
     "name": "stdout",
     "output_type": "stream",
     "text": [
      "\n",
      "Batch 250000\n",
      "Current batch loss: 0.0000\n",
      "Average loss so far: 0.0626\n"
     ]
    },
    {
     "name": "stderr",
     "output_type": "stream",
     "text": [
      "Epoch 1/10:  77%|███████▋  | 251004/328056 [52:35<14:29, 88.59it/s, Avg Loss=0.0623] "
     ]
    },
    {
     "name": "stdout",
     "output_type": "stream",
     "text": [
      "\n",
      "Batch 251000\n",
      "Current batch loss: 0.0006\n",
      "Average loss so far: 0.0623\n"
     ]
    },
    {
     "name": "stderr",
     "output_type": "stream",
     "text": [
      "Epoch 1/10:  77%|███████▋  | 252010/328056 [52:47<14:49, 85.53it/s, Avg Loss=0.0621]"
     ]
    },
    {
     "name": "stdout",
     "output_type": "stream",
     "text": [
      "\n",
      "Batch 252000\n",
      "Current batch loss: 0.0000\n",
      "Average loss so far: 0.0621\n"
     ]
    },
    {
     "name": "stderr",
     "output_type": "stream",
     "text": [
      "Epoch 1/10:  77%|███████▋  | 253010/328056 [52:59<14:39, 85.34it/s, Avg Loss=0.0619]"
     ]
    },
    {
     "name": "stdout",
     "output_type": "stream",
     "text": [
      "\n",
      "Batch 253000\n",
      "Current batch loss: 0.0000\n",
      "Average loss so far: 0.0619\n"
     ]
    },
    {
     "name": "stderr",
     "output_type": "stream",
     "text": [
      "Epoch 1/10:  77%|███████▋  | 254011/328056 [53:11<13:58, 88.30it/s, Avg Loss=0.0616]"
     ]
    },
    {
     "name": "stdout",
     "output_type": "stream",
     "text": [
      "\n",
      "Batch 254000\n",
      "Current batch loss: 0.0000\n",
      "Average loss so far: 0.0617\n"
     ]
    },
    {
     "name": "stderr",
     "output_type": "stream",
     "text": [
      "Epoch 1/10:  78%|███████▊  | 255016/328056 [53:22<13:56, 87.28it/s, Avg Loss=0.0614] "
     ]
    },
    {
     "name": "stdout",
     "output_type": "stream",
     "text": [
      "\n",
      "Batch 255000\n",
      "Current batch loss: 0.0001\n",
      "Average loss so far: 0.0614\n"
     ]
    },
    {
     "name": "stderr",
     "output_type": "stream",
     "text": [
      "Epoch 1/10:  78%|███████▊  | 256013/328056 [53:34<12:49, 93.60it/s, Avg Loss=0.0612] "
     ]
    },
    {
     "name": "stdout",
     "output_type": "stream",
     "text": [
      "\n",
      "Batch 256000\n",
      "Current batch loss: 0.0000\n",
      "Average loss so far: 0.0612\n"
     ]
    },
    {
     "name": "stderr",
     "output_type": "stream",
     "text": [
      "Epoch 1/10:  78%|███████▊  | 257010/328056 [53:46<12:59, 91.18it/s, Avg Loss=0.0610] "
     ]
    },
    {
     "name": "stdout",
     "output_type": "stream",
     "text": [
      "\n",
      "Batch 257000\n",
      "Current batch loss: 0.0000\n",
      "Average loss so far: 0.0610\n"
     ]
    },
    {
     "name": "stderr",
     "output_type": "stream",
     "text": [
      "Epoch 1/10:  79%|███████▊  | 258015/328056 [53:58<13:07, 88.99it/s, Avg Loss=0.0608] "
     ]
    },
    {
     "name": "stdout",
     "output_type": "stream",
     "text": [
      "\n",
      "Batch 258000\n",
      "Current batch loss: 0.0078\n",
      "Average loss so far: 0.0608\n"
     ]
    },
    {
     "name": "stderr",
     "output_type": "stream",
     "text": [
      "Epoch 1/10:  79%|███████▉  | 259011/328056 [54:09<14:01, 82.04it/s, Avg Loss=0.0605] "
     ]
    },
    {
     "name": "stdout",
     "output_type": "stream",
     "text": [
      "\n",
      "Batch 259000\n",
      "Current batch loss: 0.0001\n",
      "Average loss so far: 0.0605\n"
     ]
    },
    {
     "name": "stderr",
     "output_type": "stream",
     "text": [
      "Epoch 1/10:  79%|███████▉  | 260017/328056 [54:22<13:15, 85.52it/s, Avg Loss=0.0603] "
     ]
    },
    {
     "name": "stdout",
     "output_type": "stream",
     "text": [
      "\n",
      "Batch 260000\n",
      "Current batch loss: 0.0002\n",
      "Average loss so far: 0.0603\n"
     ]
    },
    {
     "name": "stderr",
     "output_type": "stream",
     "text": [
      "Epoch 1/10:  80%|███████▉  | 261013/328056 [54:34<12:51, 86.87it/s, Avg Loss=0.0601] "
     ]
    },
    {
     "name": "stdout",
     "output_type": "stream",
     "text": [
      "\n",
      "Batch 261000\n",
      "Current batch loss: 0.0007\n",
      "Average loss so far: 0.0601\n"
     ]
    },
    {
     "name": "stderr",
     "output_type": "stream",
     "text": [
      "Epoch 1/10:  80%|███████▉  | 262013/328056 [54:47<15:00, 73.35it/s, Avg Loss=0.0599] "
     ]
    },
    {
     "name": "stdout",
     "output_type": "stream",
     "text": [
      "\n",
      "Batch 262000\n",
      "Current batch loss: 0.0068\n",
      "Average loss so far: 0.0599\n"
     ]
    },
    {
     "name": "stderr",
     "output_type": "stream",
     "text": [
      "Epoch 1/10:  80%|████████  | 263013/328056 [54:58<12:18, 88.03it/s, Avg Loss=0.0597]"
     ]
    },
    {
     "name": "stdout",
     "output_type": "stream",
     "text": [
      "\n",
      "Batch 263000\n",
      "Current batch loss: 0.0008\n",
      "Average loss so far: 0.0597\n"
     ]
    },
    {
     "name": "stderr",
     "output_type": "stream",
     "text": [
      "Epoch 1/10:  80%|████████  | 264016/328056 [55:10<11:38, 91.65it/s, Avg Loss=0.0595] "
     ]
    },
    {
     "name": "stdout",
     "output_type": "stream",
     "text": [
      "\n",
      "Batch 264000\n",
      "Current batch loss: 0.0000\n",
      "Average loss so far: 0.0595\n"
     ]
    },
    {
     "name": "stderr",
     "output_type": "stream",
     "text": [
      "Epoch 1/10:  81%|████████  | 265013/328056 [55:20<11:06, 94.62it/s, Avg Loss=0.0592] "
     ]
    },
    {
     "name": "stdout",
     "output_type": "stream",
     "text": [
      "\n",
      "Batch 265000\n",
      "Current batch loss: 0.0000\n",
      "Average loss so far: 0.0592\n"
     ]
    },
    {
     "name": "stderr",
     "output_type": "stream",
     "text": [
      "Epoch 1/10:  81%|████████  | 266016/328056 [55:30<11:26, 90.41it/s, Avg Loss=0.0590] "
     ]
    },
    {
     "name": "stdout",
     "output_type": "stream",
     "text": [
      "\n",
      "Batch 266000\n",
      "Current batch loss: 0.0000\n",
      "Average loss so far: 0.0590\n"
     ]
    },
    {
     "name": "stderr",
     "output_type": "stream",
     "text": [
      "Epoch 1/10:  81%|████████▏ | 267010/328056 [55:41<10:41, 95.12it/s, Avg Loss=0.0588] "
     ]
    },
    {
     "name": "stdout",
     "output_type": "stream",
     "text": [
      "\n",
      "Batch 267000\n",
      "Current batch loss: 0.0000\n",
      "Average loss so far: 0.0588\n"
     ]
    },
    {
     "name": "stderr",
     "output_type": "stream",
     "text": [
      "Epoch 1/10:  82%|████████▏ | 268022/328056 [55:51<08:57, 111.71it/s, Avg Loss=0.0586]"
     ]
    },
    {
     "name": "stdout",
     "output_type": "stream",
     "text": [
      "\n",
      "Batch 268000\n",
      "Current batch loss: 0.0000\n",
      "Average loss so far: 0.0586\n"
     ]
    },
    {
     "name": "stderr",
     "output_type": "stream",
     "text": [
      "Epoch 1/10:  82%|████████▏ | 269017/328056 [56:02<10:30, 93.71it/s, Avg Loss=0.0584] "
     ]
    },
    {
     "name": "stdout",
     "output_type": "stream",
     "text": [
      "\n",
      "Batch 269000\n",
      "Current batch loss: 0.0000\n",
      "Average loss so far: 0.0584\n"
     ]
    },
    {
     "name": "stderr",
     "output_type": "stream",
     "text": [
      "Epoch 1/10:  82%|████████▏ | 270013/328056 [56:12<12:19, 78.45it/s, Avg Loss=0.0582] "
     ]
    },
    {
     "name": "stdout",
     "output_type": "stream",
     "text": [
      "\n",
      "Batch 270000\n",
      "Current batch loss: 0.0000\n",
      "Average loss so far: 0.0582\n"
     ]
    },
    {
     "name": "stderr",
     "output_type": "stream",
     "text": [
      "Epoch 1/10:  83%|████████▎ | 271016/328056 [56:22<10:50, 87.71it/s, Avg Loss=0.0580] "
     ]
    },
    {
     "name": "stdout",
     "output_type": "stream",
     "text": [
      "\n",
      "Batch 271000\n",
      "Current batch loss: 0.0000\n",
      "Average loss so far: 0.0580\n"
     ]
    },
    {
     "name": "stderr",
     "output_type": "stream",
     "text": [
      "Epoch 1/10:  83%|████████▎ | 272014/328056 [56:33<11:34, 80.67it/s, Avg Loss=0.0578] "
     ]
    },
    {
     "name": "stdout",
     "output_type": "stream",
     "text": [
      "\n",
      "Batch 272000\n",
      "Current batch loss: 0.0000\n",
      "Average loss so far: 0.0578\n"
     ]
    },
    {
     "name": "stderr",
     "output_type": "stream",
     "text": [
      "Epoch 1/10:  83%|████████▎ | 273018/328056 [56:43<09:52, 92.84it/s, Avg Loss=0.0576] "
     ]
    },
    {
     "name": "stdout",
     "output_type": "stream",
     "text": [
      "\n",
      "Batch 273000\n",
      "Current batch loss: 0.0000\n",
      "Average loss so far: 0.0576\n"
     ]
    },
    {
     "name": "stderr",
     "output_type": "stream",
     "text": [
      "Epoch 1/10:  84%|████████▎ | 274016/328056 [56:53<10:22, 86.84it/s, Avg Loss=0.0574] "
     ]
    },
    {
     "name": "stdout",
     "output_type": "stream",
     "text": [
      "\n",
      "Batch 274000\n",
      "Current batch loss: 0.0000\n",
      "Average loss so far: 0.0574\n"
     ]
    },
    {
     "name": "stderr",
     "output_type": "stream",
     "text": [
      "Epoch 1/10:  84%|████████▍ | 275018/328056 [57:04<11:13, 78.80it/s, Avg Loss=0.0572] "
     ]
    },
    {
     "name": "stdout",
     "output_type": "stream",
     "text": [
      "\n",
      "Batch 275000\n",
      "Current batch loss: 0.0000\n",
      "Average loss so far: 0.0572\n"
     ]
    },
    {
     "name": "stderr",
     "output_type": "stream",
     "text": [
      "Epoch 1/10:  84%|████████▍ | 276014/328056 [57:16<11:21, 76.40it/s, Avg Loss=0.0570]"
     ]
    },
    {
     "name": "stdout",
     "output_type": "stream",
     "text": [
      "\n",
      "Batch 276000\n",
      "Current batch loss: 0.0000\n",
      "Average loss so far: 0.0570\n"
     ]
    },
    {
     "name": "stderr",
     "output_type": "stream",
     "text": [
      "Epoch 1/10:  84%|████████▍ | 277004/328056 [57:29<14:52, 57.22it/s, Avg Loss=0.0568]"
     ]
    },
    {
     "name": "stdout",
     "output_type": "stream",
     "text": [
      "\n",
      "Batch 277000\n",
      "Current batch loss: 0.0000\n",
      "Average loss so far: 0.0568\n"
     ]
    },
    {
     "name": "stderr",
     "output_type": "stream",
     "text": [
      "Epoch 1/10:  85%|████████▍ | 278006/328056 [57:43<10:35, 78.70it/s, Avg Loss=0.0566]"
     ]
    },
    {
     "name": "stdout",
     "output_type": "stream",
     "text": [
      "\n",
      "Batch 278000\n",
      "Current batch loss: 0.0000\n",
      "Average loss so far: 0.0566\n"
     ]
    },
    {
     "name": "stderr",
     "output_type": "stream",
     "text": [
      "Epoch 1/10:  85%|████████▌ | 279008/328056 [57:56<10:10, 80.30it/s, Avg Loss=0.0564]"
     ]
    },
    {
     "name": "stdout",
     "output_type": "stream",
     "text": [
      "\n",
      "Batch 279000\n",
      "Current batch loss: 0.0000\n",
      "Average loss so far: 0.0564\n"
     ]
    },
    {
     "name": "stderr",
     "output_type": "stream",
     "text": [
      "Epoch 1/10:  85%|████████▌ | 280015/328056 [58:08<08:10, 98.00it/s, Avg Loss=0.0562]"
     ]
    },
    {
     "name": "stdout",
     "output_type": "stream",
     "text": [
      "\n",
      "Batch 280000\n",
      "Current batch loss: 0.0011\n",
      "Average loss so far: 0.0562\n"
     ]
    },
    {
     "name": "stderr",
     "output_type": "stream",
     "text": [
      "Epoch 1/10:  86%|████████▌ | 281013/328056 [58:18<08:34, 91.51it/s, Avg Loss=0.0560] "
     ]
    },
    {
     "name": "stdout",
     "output_type": "stream",
     "text": [
      "\n",
      "Batch 281000\n",
      "Current batch loss: 0.0461\n",
      "Average loss so far: 0.0560\n"
     ]
    },
    {
     "name": "stderr",
     "output_type": "stream",
     "text": [
      "Epoch 1/10:  86%|████████▌ | 282014/328056 [58:29<08:55, 86.02it/s, Avg Loss=0.0558] "
     ]
    },
    {
     "name": "stdout",
     "output_type": "stream",
     "text": [
      "\n",
      "Batch 282000\n",
      "Current batch loss: 0.0000\n",
      "Average loss so far: 0.0558\n"
     ]
    },
    {
     "name": "stderr",
     "output_type": "stream",
     "text": [
      "Epoch 1/10:  86%|████████▋ | 283016/328056 [58:40<07:10, 104.58it/s, Avg Loss=0.0556]"
     ]
    },
    {
     "name": "stdout",
     "output_type": "stream",
     "text": [
      "\n",
      "Batch 283000\n",
      "Current batch loss: 0.0000\n",
      "Average loss so far: 0.0557\n"
     ]
    },
    {
     "name": "stderr",
     "output_type": "stream",
     "text": [
      "Epoch 1/10:  87%|████████▋ | 284014/328056 [58:52<08:26, 87.00it/s, Avg Loss=0.0555] "
     ]
    },
    {
     "name": "stdout",
     "output_type": "stream",
     "text": [
      "\n",
      "Batch 284000\n",
      "Current batch loss: 0.0000\n",
      "Average loss so far: 0.0555\n"
     ]
    },
    {
     "name": "stderr",
     "output_type": "stream",
     "text": [
      "Epoch 1/10:  87%|████████▋ | 285013/328056 [59:04<08:34, 83.67it/s, Avg Loss=0.0553] "
     ]
    },
    {
     "name": "stdout",
     "output_type": "stream",
     "text": [
      "\n",
      "Batch 285000\n",
      "Current batch loss: 0.0000\n",
      "Average loss so far: 0.0553\n"
     ]
    },
    {
     "name": "stderr",
     "output_type": "stream",
     "text": [
      "Epoch 1/10:  87%|████████▋ | 286007/328056 [59:15<07:25, 94.46it/s, Avg Loss=0.0551] "
     ]
    },
    {
     "name": "stdout",
     "output_type": "stream",
     "text": [
      "\n",
      "Batch 286000\n",
      "Current batch loss: 0.0000\n",
      "Average loss so far: 0.0551\n"
     ]
    },
    {
     "name": "stderr",
     "output_type": "stream",
     "text": [
      "Epoch 1/10:  87%|████████▋ | 287016/328056 [59:27<06:36, 103.47it/s, Avg Loss=0.0549]"
     ]
    },
    {
     "name": "stdout",
     "output_type": "stream",
     "text": [
      "\n",
      "Batch 287000\n",
      "Current batch loss: 0.0000\n",
      "Average loss so far: 0.0549\n"
     ]
    },
    {
     "name": "stderr",
     "output_type": "stream",
     "text": [
      "Epoch 1/10:  88%|████████▊ | 288008/328056 [59:38<06:37, 100.82it/s, Avg Loss=0.0547]"
     ]
    },
    {
     "name": "stdout",
     "output_type": "stream",
     "text": [
      "\n",
      "Batch 288000\n",
      "Current batch loss: 0.0000\n",
      "Average loss so far: 0.0547\n"
     ]
    },
    {
     "name": "stderr",
     "output_type": "stream",
     "text": [
      "Epoch 1/10:  88%|████████▊ | 289016/328056 [59:48<07:09, 90.84it/s, Avg Loss=0.0545] "
     ]
    },
    {
     "name": "stdout",
     "output_type": "stream",
     "text": [
      "\n",
      "Batch 289000\n",
      "Current batch loss: 0.0000\n",
      "Average loss so far: 0.0545\n"
     ]
    },
    {
     "name": "stderr",
     "output_type": "stream",
     "text": [
      "Epoch 1/10:  88%|████████▊ | 290012/328056 [59:58<06:31, 97.09it/s, Avg Loss=0.0544] "
     ]
    },
    {
     "name": "stdout",
     "output_type": "stream",
     "text": [
      "\n",
      "Batch 290000\n",
      "Current batch loss: 0.0000\n",
      "Average loss so far: 0.0544\n"
     ]
    },
    {
     "name": "stderr",
     "output_type": "stream",
     "text": [
      "Epoch 1/10:  89%|████████▊ | 291019/328056 [1:00:07<05:11, 118.74it/s, Avg Loss=0.0542]"
     ]
    },
    {
     "name": "stdout",
     "output_type": "stream",
     "text": [
      "\n",
      "Batch 291000\n",
      "Current batch loss: 0.0000\n",
      "Average loss so far: 0.0542\n"
     ]
    },
    {
     "name": "stderr",
     "output_type": "stream",
     "text": [
      "Epoch 1/10:  89%|████████▉ | 292009/328056 [1:00:18<06:11, 97.01it/s, Avg Loss=0.0540] "
     ]
    },
    {
     "name": "stdout",
     "output_type": "stream",
     "text": [
      "\n",
      "Batch 292000\n",
      "Current batch loss: 0.0000\n",
      "Average loss so far: 0.0540\n"
     ]
    },
    {
     "name": "stderr",
     "output_type": "stream",
     "text": [
      "Epoch 1/10:  89%|████████▉ | 293014/328056 [1:00:28<06:15, 93.38it/s, Avg Loss=0.0538] "
     ]
    },
    {
     "name": "stdout",
     "output_type": "stream",
     "text": [
      "\n",
      "Batch 293000\n",
      "Current batch loss: 0.0000\n",
      "Average loss so far: 0.0538\n"
     ]
    },
    {
     "name": "stderr",
     "output_type": "stream",
     "text": [
      "Epoch 1/10:  90%|████████▉ | 294011/328056 [1:00:39<06:26, 88.18it/s, Avg Loss=0.0537] "
     ]
    },
    {
     "name": "stdout",
     "output_type": "stream",
     "text": [
      "\n",
      "Batch 294000\n",
      "Current batch loss: 0.0000\n",
      "Average loss so far: 0.0537\n"
     ]
    },
    {
     "name": "stderr",
     "output_type": "stream",
     "text": [
      "Epoch 1/10:  90%|████████▉ | 295007/328056 [1:00:49<07:14, 76.09it/s, Avg Loss=0.0535] "
     ]
    },
    {
     "name": "stdout",
     "output_type": "stream",
     "text": [
      "\n",
      "Batch 295000\n",
      "Current batch loss: 0.0053\n",
      "Average loss so far: 0.0535\n"
     ]
    },
    {
     "name": "stderr",
     "output_type": "stream",
     "text": [
      "Epoch 1/10:  90%|█████████ | 296018/328056 [1:01:00<05:57, 89.67it/s, Avg Loss=0.0533] "
     ]
    },
    {
     "name": "stdout",
     "output_type": "stream",
     "text": [
      "\n",
      "Batch 296000\n",
      "Current batch loss: 0.0000\n",
      "Average loss so far: 0.0533\n"
     ]
    },
    {
     "name": "stderr",
     "output_type": "stream",
     "text": [
      "Epoch 1/10:  91%|█████████ | 297017/328056 [1:01:13<05:53, 87.78it/s, Avg Loss=0.0531] "
     ]
    },
    {
     "name": "stdout",
     "output_type": "stream",
     "text": [
      "\n",
      "Batch 297000\n",
      "Current batch loss: 0.0000\n",
      "Average loss so far: 0.0531\n"
     ]
    },
    {
     "name": "stderr",
     "output_type": "stream",
     "text": [
      "Epoch 1/10:  91%|█████████ | 298016/328056 [1:01:24<06:21, 78.76it/s, Avg Loss=0.0530] "
     ]
    },
    {
     "name": "stdout",
     "output_type": "stream",
     "text": [
      "\n",
      "Batch 298000\n",
      "Current batch loss: 0.0000\n",
      "Average loss so far: 0.0530\n"
     ]
    },
    {
     "name": "stderr",
     "output_type": "stream",
     "text": [
      "Epoch 1/10:  91%|█████████ | 299021/328056 [1:01:35<04:47, 101.12it/s, Avg Loss=0.0528]"
     ]
    },
    {
     "name": "stdout",
     "output_type": "stream",
     "text": [
      "\n",
      "Batch 299000\n",
      "Current batch loss: 0.0000\n",
      "Average loss so far: 0.0528\n"
     ]
    },
    {
     "name": "stderr",
     "output_type": "stream",
     "text": [
      "Epoch 1/10:  91%|█████████▏| 300015/328056 [1:01:46<04:38, 100.67it/s, Avg Loss=0.0526]"
     ]
    },
    {
     "name": "stdout",
     "output_type": "stream",
     "text": [
      "\n",
      "Batch 300000\n",
      "Current batch loss: 0.0000\n",
      "Average loss so far: 0.0526\n"
     ]
    },
    {
     "name": "stderr",
     "output_type": "stream",
     "text": [
      "Epoch 1/10:  92%|█████████▏| 301015/328056 [1:01:56<04:53, 91.99it/s, Avg Loss=0.0525] "
     ]
    },
    {
     "name": "stdout",
     "output_type": "stream",
     "text": [
      "\n",
      "Batch 301000\n",
      "Current batch loss: 0.0000\n",
      "Average loss so far: 0.0525\n"
     ]
    },
    {
     "name": "stderr",
     "output_type": "stream",
     "text": [
      "Epoch 1/10:  92%|█████████▏| 302017/328056 [1:02:07<03:51, 112.24it/s, Avg Loss=0.0523]"
     ]
    },
    {
     "name": "stdout",
     "output_type": "stream",
     "text": [
      "\n",
      "Batch 302000\n",
      "Current batch loss: 0.0000\n",
      "Average loss so far: 0.0523\n"
     ]
    },
    {
     "name": "stderr",
     "output_type": "stream",
     "text": [
      "Epoch 1/10:  92%|█████████▏| 303010/328056 [1:02:18<04:42, 88.73it/s, Avg Loss=0.0521] "
     ]
    },
    {
     "name": "stdout",
     "output_type": "stream",
     "text": [
      "\n",
      "Batch 303000\n",
      "Current batch loss: 0.0000\n",
      "Average loss so far: 0.0521\n"
     ]
    },
    {
     "name": "stderr",
     "output_type": "stream",
     "text": [
      "Epoch 1/10:  93%|█████████▎| 304011/328056 [1:02:30<04:37, 86.52it/s, Avg Loss=0.0520]"
     ]
    },
    {
     "name": "stdout",
     "output_type": "stream",
     "text": [
      "\n",
      "Batch 304000\n",
      "Current batch loss: 0.0000\n",
      "Average loss so far: 0.0520\n"
     ]
    },
    {
     "name": "stderr",
     "output_type": "stream",
     "text": [
      "Epoch 1/10:  93%|█████████▎| 305014/328056 [1:02:41<04:25, 86.86it/s, Avg Loss=0.0518]"
     ]
    },
    {
     "name": "stdout",
     "output_type": "stream",
     "text": [
      "\n",
      "Batch 305000\n",
      "Current batch loss: 0.0000\n",
      "Average loss so far: 0.0518\n"
     ]
    },
    {
     "name": "stderr",
     "output_type": "stream",
     "text": [
      "Epoch 1/10:  93%|█████████▎| 306014/328056 [1:02:53<03:55, 93.79it/s, Avg Loss=0.0516] "
     ]
    },
    {
     "name": "stdout",
     "output_type": "stream",
     "text": [
      "\n",
      "Batch 306000\n",
      "Current batch loss: 0.0000\n",
      "Average loss so far: 0.0516\n"
     ]
    },
    {
     "name": "stderr",
     "output_type": "stream",
     "text": [
      "Epoch 1/10:  94%|█████████▎| 307011/328056 [1:03:03<03:56, 89.06it/s, Avg Loss=0.0515] "
     ]
    },
    {
     "name": "stdout",
     "output_type": "stream",
     "text": [
      "\n",
      "Batch 307000\n",
      "Current batch loss: 0.0000\n",
      "Average loss so far: 0.0515\n"
     ]
    },
    {
     "name": "stderr",
     "output_type": "stream",
     "text": [
      "Epoch 1/10:  94%|█████████▍| 308012/328056 [1:03:13<03:47, 88.09it/s, Avg Loss=0.0513] "
     ]
    },
    {
     "name": "stdout",
     "output_type": "stream",
     "text": [
      "\n",
      "Batch 308000\n",
      "Current batch loss: 0.0000\n",
      "Average loss so far: 0.0513\n"
     ]
    },
    {
     "name": "stderr",
     "output_type": "stream",
     "text": [
      "Epoch 1/10:  94%|█████████▍| 309020/328056 [1:03:25<02:57, 107.06it/s, Avg Loss=0.0512]"
     ]
    },
    {
     "name": "stdout",
     "output_type": "stream",
     "text": [
      "\n",
      "Batch 309000\n",
      "Current batch loss: 0.0004\n",
      "Average loss so far: 0.0512\n"
     ]
    },
    {
     "name": "stderr",
     "output_type": "stream",
     "text": [
      "Epoch 1/10:  95%|█████████▍| 310016/328056 [1:03:37<03:17, 91.54it/s, Avg Loss=0.0510] "
     ]
    },
    {
     "name": "stdout",
     "output_type": "stream",
     "text": [
      "\n",
      "Batch 310000\n",
      "Current batch loss: 0.0000\n",
      "Average loss so far: 0.0510\n"
     ]
    },
    {
     "name": "stderr",
     "output_type": "stream",
     "text": [
      "Epoch 1/10:  95%|█████████▍| 311012/328056 [1:03:47<03:00, 94.53it/s, Avg Loss=0.0508] "
     ]
    },
    {
     "name": "stdout",
     "output_type": "stream",
     "text": [
      "\n",
      "Batch 311000\n",
      "Current batch loss: 0.0000\n",
      "Average loss so far: 0.0508\n"
     ]
    },
    {
     "name": "stderr",
     "output_type": "stream",
     "text": [
      "Epoch 1/10:  95%|█████████▌| 312009/328056 [1:03:58<02:46, 96.49it/s, Avg Loss=0.0507] "
     ]
    },
    {
     "name": "stdout",
     "output_type": "stream",
     "text": [
      "\n",
      "Batch 312000\n",
      "Current batch loss: 0.0000\n",
      "Average loss so far: 0.0507\n"
     ]
    },
    {
     "name": "stderr",
     "output_type": "stream",
     "text": [
      "Epoch 1/10:  95%|█████████▌| 313012/328056 [1:04:08<02:28, 101.41it/s, Avg Loss=0.0505]"
     ]
    },
    {
     "name": "stdout",
     "output_type": "stream",
     "text": [
      "\n",
      "Batch 313000\n",
      "Current batch loss: 0.0000\n",
      "Average loss so far: 0.0505\n"
     ]
    },
    {
     "name": "stderr",
     "output_type": "stream",
     "text": [
      "Epoch 1/10:  96%|█████████▌| 314010/328056 [1:04:19<02:33, 91.21it/s, Avg Loss=0.0504] "
     ]
    },
    {
     "name": "stdout",
     "output_type": "stream",
     "text": [
      "\n",
      "Batch 314000\n",
      "Current batch loss: 0.0002\n",
      "Average loss so far: 0.0504\n"
     ]
    },
    {
     "name": "stderr",
     "output_type": "stream",
     "text": [
      "Epoch 1/10:  96%|█████████▌| 315012/328056 [1:04:30<02:41, 80.86it/s, Avg Loss=0.0502] "
     ]
    },
    {
     "name": "stdout",
     "output_type": "stream",
     "text": [
      "\n",
      "Batch 315000\n",
      "Current batch loss: 0.0008\n",
      "Average loss so far: 0.0502\n"
     ]
    },
    {
     "name": "stderr",
     "output_type": "stream",
     "text": [
      "Epoch 1/10:  96%|█████████▋| 316017/328056 [1:04:40<02:08, 93.53it/s, Avg Loss=0.0501] "
     ]
    },
    {
     "name": "stdout",
     "output_type": "stream",
     "text": [
      "\n",
      "Batch 316000\n",
      "Current batch loss: 0.0000\n",
      "Average loss so far: 0.0501\n"
     ]
    },
    {
     "name": "stderr",
     "output_type": "stream",
     "text": [
      "Epoch 1/10:  97%|█████████▋| 317012/328056 [1:04:50<01:40, 109.42it/s, Avg Loss=0.0499]"
     ]
    },
    {
     "name": "stdout",
     "output_type": "stream",
     "text": [
      "\n",
      "Batch 317000\n",
      "Current batch loss: 0.0034\n",
      "Average loss so far: 0.0499\n"
     ]
    },
    {
     "name": "stderr",
     "output_type": "stream",
     "text": [
      "Epoch 1/10:  97%|█████████▋| 318010/328056 [1:05:01<01:37, 102.83it/s, Avg Loss=0.0498]"
     ]
    },
    {
     "name": "stdout",
     "output_type": "stream",
     "text": [
      "\n",
      "Batch 318000\n",
      "Current batch loss: 0.0000\n",
      "Average loss so far: 0.0498\n"
     ]
    },
    {
     "name": "stderr",
     "output_type": "stream",
     "text": [
      "Epoch 1/10:  97%|█████████▋| 319018/328056 [1:05:12<01:22, 109.02it/s, Avg Loss=0.0496]"
     ]
    },
    {
     "name": "stdout",
     "output_type": "stream",
     "text": [
      "\n",
      "Batch 319000\n",
      "Current batch loss: 0.0001\n",
      "Average loss so far: 0.0496\n"
     ]
    },
    {
     "name": "stderr",
     "output_type": "stream",
     "text": [
      "Epoch 1/10:  98%|█████████▊| 320016/328056 [1:05:23<01:25, 93.78it/s, Avg Loss=0.0495] "
     ]
    },
    {
     "name": "stdout",
     "output_type": "stream",
     "text": [
      "\n",
      "Batch 320000\n",
      "Current batch loss: 0.0001\n",
      "Average loss so far: 0.0495\n"
     ]
    },
    {
     "name": "stderr",
     "output_type": "stream",
     "text": [
      "Epoch 1/10:  98%|█████████▊| 321015/328056 [1:05:33<01:11, 98.57it/s, Avg Loss=0.0493] "
     ]
    },
    {
     "name": "stdout",
     "output_type": "stream",
     "text": [
      "\n",
      "Batch 321000\n",
      "Current batch loss: 0.0000\n",
      "Average loss so far: 0.0493\n"
     ]
    },
    {
     "name": "stderr",
     "output_type": "stream",
     "text": [
      "Epoch 1/10:  98%|█████████▊| 322022/328056 [1:05:44<01:05, 91.60it/s, Avg Loss=0.0492] "
     ]
    },
    {
     "name": "stdout",
     "output_type": "stream",
     "text": [
      "\n",
      "Batch 322000\n",
      "Current batch loss: 0.0000\n",
      "Average loss so far: 0.0492\n"
     ]
    },
    {
     "name": "stderr",
     "output_type": "stream",
     "text": [
      "Epoch 1/10:  98%|█████████▊| 323011/328056 [1:05:55<00:51, 98.42it/s, Avg Loss=0.0490] "
     ]
    },
    {
     "name": "stdout",
     "output_type": "stream",
     "text": [
      "\n",
      "Batch 323000\n",
      "Current batch loss: 0.0000\n",
      "Average loss so far: 0.0490\n"
     ]
    },
    {
     "name": "stderr",
     "output_type": "stream",
     "text": [
      "Epoch 1/10:  99%|█████████▉| 324016/328056 [1:06:05<00:44, 90.62it/s, Avg Loss=0.0489] "
     ]
    },
    {
     "name": "stdout",
     "output_type": "stream",
     "text": [
      "\n",
      "Batch 324000\n",
      "Current batch loss: 0.0000\n",
      "Average loss so far: 0.0489\n"
     ]
    },
    {
     "name": "stderr",
     "output_type": "stream",
     "text": [
      "Epoch 1/10:  99%|█████████▉| 325008/328056 [1:06:16<00:34, 89.32it/s, Avg Loss=0.0487] "
     ]
    },
    {
     "name": "stdout",
     "output_type": "stream",
     "text": [
      "\n",
      "Batch 325000\n",
      "Current batch loss: 0.0000\n",
      "Average loss so far: 0.0487\n"
     ]
    },
    {
     "name": "stderr",
     "output_type": "stream",
     "text": [
      "Epoch 1/10:  99%|█████████▉| 326013/328056 [1:06:27<00:19, 102.76it/s, Avg Loss=0.0486]"
     ]
    },
    {
     "name": "stdout",
     "output_type": "stream",
     "text": [
      "\n",
      "Batch 326000\n",
      "Current batch loss: 0.0000\n",
      "Average loss so far: 0.0486\n"
     ]
    },
    {
     "name": "stderr",
     "output_type": "stream",
     "text": [
      "Epoch 1/10: 100%|█████████▉| 327018/328056 [1:06:37<00:09, 106.10it/s, Avg Loss=0.0484]"
     ]
    },
    {
     "name": "stdout",
     "output_type": "stream",
     "text": [
      "\n",
      "Batch 327000\n",
      "Current batch loss: 0.0000\n",
      "Average loss so far: 0.0484\n"
     ]
    },
    {
     "name": "stderr",
     "output_type": "stream",
     "text": [
      "Epoch 1/10: 100%|█████████▉| 328013/328056 [1:06:48<00:00, 99.58it/s, Avg Loss=0.0483] "
     ]
    },
    {
     "name": "stdout",
     "output_type": "stream",
     "text": [
      "\n",
      "Batch 328000\n",
      "Current batch loss: 0.0000\n",
      "Average loss so far: 0.0483\n"
     ]
    },
    {
     "name": "stderr",
     "output_type": "stream",
     "text": [
      "Epoch 1/10: 100%|██████████| 328056/328056 [1:06:51<00:00, 81.78it/s, Avg Loss=0.0483]"
     ]
    },
    {
     "name": "stdout",
     "output_type": "stream",
     "text": [
      "\n",
      "Epoch 1 completed\n",
      "Average epoch loss: 0.0483\n",
      "--------------------------------------------------\n"
     ]
    },
    {
     "name": "stderr",
     "output_type": "stream",
     "text": [
      "\n"
     ]
    }
   ],
   "source": [
    "from tqdm import tqdm\n",
    "\n",
    "for epoch in range(1):\n",
    "    total_loss = 0\n",
    "    batch_count = 0\n",
    "    progress_bar = tqdm(dataloader, desc=f'Epoch {epoch+1}/{num_epochs}')\n",
    "    \n",
    "    for target, context in progress_bar:\n",
    "        batch_count += 1\n",
    "        target = target.to(device)\n",
    "        context = context.to(device)\n",
    "        \n",
    "        Adam_optimizer.zero_grad()\n",
    "        scores = model(target, context)\n",
    "        labels = torch.ones_like(scores)\n",
    "        loss = loss_fn(scores, labels)\n",
    "        loss.backward()\n",
    "        Adam_optimizer.step()\n",
    "        \n",
    "        total_loss += loss.item()\n",
    "        current_loss = total_loss / batch_count\n",
    "        \n",
    "        # Update progress bar with current loss\n",
    "        progress_bar.set_postfix({'Avg Loss': f'{current_loss:.4f}'})\n",
    "        \n",
    "        # Print detailed stats every 1000 batches\n",
    "        if batch_count % 1000 == 0:\n",
    "            print(f\"\\nBatch {batch_count}\")\n",
    "            print(f\"Current batch loss: {loss.item():.4f}\")\n",
    "            print(f\"Average loss so far: {current_loss:.4f}\")\n",
    "    \n",
    "    epoch_loss = total_loss / batch_count\n",
    "    print(f\"\\nEpoch {epoch+1} completed\")\n",
    "    print(f\"Average epoch loss: {epoch_loss:.4f}\")\n",
    "    print(\"-\" * 50)"
   ]
  },
  {
   "cell_type": "markdown",
   "metadata": {},
   "source": []
  },
  {
   "cell_type": "code",
   "execution_count": 22,
   "metadata": {},
   "outputs": [
    {
     "data": {
      "text/plain": [
       "(74331, 100)"
      ]
     },
     "execution_count": 22,
     "metadata": {},
     "output_type": "execute_result"
    }
   ],
   "source": [
    "word_embeddings = model.embedding.weight.data.cpu().numpy() # Convert to numpy array for easier visualization\n",
    "word_embeddings.shape"
   ]
  },
  {
   "cell_type": "code",
   "execution_count": 23,
   "metadata": {},
   "outputs": [
    {
     "ename": "AttributeError",
     "evalue": "'numpy.ndarray' object has no attribute 'numpy'",
     "output_type": "error",
     "traceback": [
      "\u001b[0;31m---------------------------------------------------------------------------\u001b[0m",
      "\u001b[0;31mAttributeError\u001b[0m                            Traceback (most recent call last)",
      "Cell \u001b[0;32mIn[23], line 1\u001b[0m\n\u001b[0;32m----> 1\u001b[0m word_embeddings_np \u001b[38;5;241m=\u001b[39m \u001b[43mword_embeddings\u001b[49m\u001b[38;5;241;43m.\u001b[39;49m\u001b[43mnumpy\u001b[49m()\n\u001b[1;32m      2\u001b[0m word_embeddings_np\u001b[38;5;241m.\u001b[39mshape\n",
      "\u001b[0;31mAttributeError\u001b[0m: 'numpy.ndarray' object has no attribute 'numpy'"
     ]
    }
   ],
   "source": [
    "\n"
   ]
  },
  {
   "cell_type": "code",
   "execution_count": 26,
   "metadata": {},
   "outputs": [
    {
     "data": {
      "text/plain": [
       "(74331, 2)"
      ]
     },
     "execution_count": 26,
     "metadata": {},
     "output_type": "execute_result"
    }
   ],
   "source": [
    "# What is TSNE?\n",
    "# TSNE is a machine learning algorithm for visualization of high-dimensional data.\n",
    "# For example, if we have 1000 features, we can reduce it to 2 features while keeping the important information.\n",
    "\n",
    "from sklearn.manifold import TSNE\n",
    "TSNE_model = TSNE(n_components=2, random_state=42)\n",
    "word_embeddings_2d = TSNE_model.fit_transform(word_embeddings)\n",
    "word_embeddings_2d.shape"
   ]
  },
  {
   "cell_type": "code",
   "execution_count": 27,
   "metadata": {},
   "outputs": [
    {
     "data": {
      "image/png": "[encoded data removed]",
      "text/plain": [
       "<Figure size 1000x1000 with 1 Axes>"
      ]
     },
     "metadata": {},
     "output_type": "display_data"
    }
   ],
   "source": [
    "# Let's plot the 2D embeddings\n",
    "\n",
    "def plot_with_labels(embeddings, labels):\n",
    "    plt.figure(figsize=(10, 10))\n",
    "    plt.scatter(embeddings[:, 0], embeddings[:, 1], c='blue', alpha=0.5)\n",
    "    for i, label in enumerate(labels):\n",
    "        plt.annotate(label, (embeddings[i, 0], embeddings[i, 1]), fontsize=12)\n",
    "    plt.show()\n",
    "plot_with_labels(word_embeddings_2d, idx_to_word.values())"
   ]
  },
  {
   "cell_type": "code",
   "execution_count": null,
   "metadata": {},
   "outputs": [],
   "source": []
  }
 ],
 "metadata": {
  "kernelspec": {
   "display_name": "Python 3",
   "language": "python",
   "name": "python3"
  },
  "language_info": {
   "codemirror_mode": {
    "name": "ipython",
    "version": 3
   },
   "file_extension": ".py",
   "mimetype": "text/x-python",
   "name": "python",
   "nbconvert_exporter": "python",
   "pygments_lexer": "ipython3",
   "version": "3.11.10"
  }
 },
 "nbformat": 4,
 "nbformat_minor": 2
}
